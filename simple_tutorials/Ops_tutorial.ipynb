{
 "cells": [
  {
   "cell_type": "markdown",
   "metadata": {},
   "source": [
    "# Ops Tutorial\n",
    "https://symforce.org/tutorials/ops_tutorial.html\n",
    "\n",
    "SymForce uses concepts as an underlying mechanism. A concept is a specification of supported operations, including syntax and semantics, but does not require a subtype relationship. This means that a set of heterogenous types can be operated on in a homogenous way, i.e. types that are external and don’t share a base class, like Python floats treated as scalars.\n",
    "\n",
    "There are three core concepts, each of which is a superset of the previous. The core routines use these ops interfaces rather than calling methods on types directly. The ops package docs provide much more detail and each op is tested on each type, but examples are given here.\n",
    "\n",
    "In the case of lists of objects or a Values object (see the Values tutorial), we perform element-wise operations."
   ]
  },
  {
   "cell_type": "code",
   "execution_count": 1,
   "metadata": {},
   "outputs": [],
   "source": [
    "# Setup\n",
    "import symforce\n",
    "\n",
    "symforce.set_symbolic_api(\"sympy\")\n",
    "symforce.set_log_level(\"warning\")\n",
    "\n",
    "from symforce.notebook_util import display\n",
    "import symforce.symbolic as sf\n",
    "from symforce.values import Values\n",
    "from symforce.ops import StorageOps, GroupOps, LieGroupOps"
   ]
  },
  {
   "cell_type": "markdown",
   "metadata": {},
   "source": [
    "# StorageOps\n",
    "StorageOps: Data type that can be serialized to and from a vector of scalar quantities.\n",
    "\n",
    "Methods: .storage_dim(), .to_storage(), .from_storage(), .symbolic(), .evalf(), .subs(), .simplify()\n",
    "\n",
    "Storage operations are used extensively for marshalling and for operating on each scalar in a type."
   ]
  },
  {
   "cell_type": "code",
   "execution_count": 2,
   "metadata": {},
   "outputs": [
    {
     "data": {
      "image/png": "[encoded data removed]",
      "text/latex": [
       "$\\displaystyle 7$"
      ],
      "text/plain": [
       "7"
      ]
     },
     "metadata": {},
     "output_type": "display_data"
    }
   ],
   "source": [
    "# Number of scalars used to represent a Pose3 (4 quaternion + 3 position)\n",
    "display(StorageOps.storage_dim(sf.Pose3))"
   ]
  },
  {
   "cell_type": "code",
   "execution_count": 3,
   "metadata": {},
   "outputs": [
    {
     "data": {
      "image/png": "[encoded data removed]",
      "text/latex": [
       "$\\displaystyle 1$"
      ],
      "text/plain": [
       "1"
      ]
     },
     "metadata": {},
     "output_type": "display_data"
    }
   ],
   "source": [
    "# Because we are using concepts, we can operate on types that aren't subtypes\n",
    "# of symforce\n",
    "display(StorageOps.storage_dim(float))"
   ]
  },
  {
   "cell_type": "code",
   "execution_count": 4,
   "metadata": {},
   "outputs": [
    {
     "data": {
      "image/png": "[encoded data removed]",
      "text/latex": [
       "$\\displaystyle 14$"
      ],
      "text/plain": [
       "14"
      ]
     },
     "metadata": {},
     "output_type": "display_data"
    }
   ],
   "source": [
    "# Element-wise operations on lists of objects\n",
    "display(StorageOps.storage_dim([sf.Pose3, sf.Pose3]))"
   ]
  },
  {
   "cell_type": "code",
   "execution_count": 5,
   "metadata": {},
   "outputs": [
    {
     "data": {
      "image/png": "[encoded data removed]",
      "text/latex": [
       "$\\displaystyle 8$"
      ],
      "text/plain": [
       "8"
      ]
     },
     "metadata": {},
     "output_type": "display_data"
    }
   ],
   "source": [
    "# Element-wise operations on Values object with multiple types of elements\n",
    "values = Values(\n",
    "    pose=sf.Pose3(),\n",
    "    scalar=sf.Symbol(\"x\"),\n",
    ")\n",
    "display(StorageOps.storage_dim(values))  # 4 quaternion + 3 position + 1 scalar"
   ]
  },
  {
   "cell_type": "code",
   "execution_count": 6,
   "metadata": {},
   "outputs": [
    {
     "data": {
      "image/png": "[encoded data removed]",
      "text/latex": [
       "$\\displaystyle \\left[ 5\\right]$"
      ],
      "text/plain": [
       "[5]"
      ]
     },
     "metadata": {},
     "output_type": "display_data"
    }
   ],
   "source": [
    "# Serialize scalar\n",
    "display(StorageOps.to_storage(5))"
   ]
  },
  {
   "cell_type": "code",
   "execution_count": 7,
   "metadata": {},
   "outputs": [
    {
     "data": {
      "image/png": "[encoded data removed]",
      "text/latex": [
       "$\\displaystyle \\left[ x, \\  5.2, \\  \\sqrt{5}\\right]$"
      ],
      "text/plain": [
       "[x, 5.2, √5]"
      ]
     },
     "metadata": {},
     "output_type": "display_data"
    }
   ],
   "source": [
    "# Serialize vector/matrix\n",
    "display(StorageOps.to_storage(sf.V3(sf.Symbol(\"x\"), 5.2, sf.sqrt(5))))"
   ]
  },
  {
   "cell_type": "code",
   "execution_count": 8,
   "metadata": {},
   "outputs": [
    {
     "data": {
      "image/png": "[encoded data removed]",
      "text/latex": [
       "$\\displaystyle \\left[ T.R_{x}, \\  T.R_{y}, \\  T.R_{z}, \\  T.R_{w}, \\  T.t0, \\  T.t1, \\  T.t2\\right]$"
      ],
      "text/plain": [
       "[T.Rₓ, T.R_y, T.R_z, T.R_w, T.t0, T.t1, T.t2]"
      ]
     },
     "metadata": {},
     "output_type": "display_data"
    },
    {
     "data": {
      "text/plain": [
       "<Pose3 R=<Rot3 <Q xyzw=[T.R_x, T.R_y, T.R_z, T.R_w]>>, t=(T.t0, T.t1, T.t2)>"
      ]
     },
     "metadata": {},
     "output_type": "display_data"
    }
   ],
   "source": [
    "# Serialize geometric type and reconstruct\n",
    "T = sf.Pose3.symbolic(\"T\")\n",
    "T_serialized = StorageOps.to_storage(T)\n",
    "T_recovered = StorageOps.from_storage(sf.Pose3, T_serialized)\n",
    "display(T_serialized)\n",
    "display(T_recovered)"
   ]
  },
  {
   "cell_type": "markdown",
   "metadata": {},
   "source": [
    "# GroupOps\n",
    "GroupOps: Mathematical group that implements closure, associativity, identity and invertibility.\n",
    "\n",
    "Methods: .identity(), .inverse(), .compose(), .between()\n",
    "\n",
    "Group operations provide the core methods to compare and combine types."
   ]
  },
  {
   "cell_type": "code",
   "execution_count": 9,
   "metadata": {},
   "outputs": [
    {
     "data": {
      "text/plain": [
       "<Pose3 R=<Rot3 <Q xyzw=[0, 0, 0, 1]>>, t=(0, 0, 0)>"
      ]
     },
     "metadata": {},
     "output_type": "display_data"
    }
   ],
   "source": [
    "# Identity of a pose\n",
    "display(GroupOps.identity(sf.Pose3))"
   ]
  },
  {
   "cell_type": "code",
   "execution_count": 10,
   "metadata": {},
   "outputs": [
    {
     "data": {
      "image/png": "[encoded data removed]",
      "text/latex": [
       "$\\displaystyle 0$"
      ],
      "text/plain": [
       "0"
      ]
     },
     "metadata": {},
     "output_type": "display_data"
    }
   ],
   "source": [
    "# Identity of a scalar (under addition)\n",
    "display(GroupOps.identity(float))"
   ]
  },
  {
   "cell_type": "code",
   "execution_count": 11,
   "metadata": {},
   "outputs": [
    {
     "data": {
      "text/latex": [
       "$\\displaystyle \\left[\\begin{matrix}-1.2 & 3 & -2\\end{matrix}\\right]$"
      ],
      "text/plain": [
       "[-1.2  3  -2]"
      ]
     },
     "metadata": {},
     "output_type": "display_data"
    }
   ],
   "source": [
    "# Inverse of a vector\n",
    "display(GroupOps.inverse(sf.V3(1.2, -3, 2)).T)"
   ]
  },
  {
   "cell_type": "code",
   "execution_count": 12,
   "metadata": {},
   "outputs": [
    {
     "data": {
      "text/latex": [
       "$\\displaystyle \\left[\\begin{matrix}4\\\\-3\\end{matrix}\\right]$"
      ],
      "text/plain": [
       "⎡4 ⎤\n",
       "⎢  ⎥\n",
       "⎣-3⎦"
      ]
     },
     "metadata": {},
     "output_type": "display_data"
    }
   ],
   "source": [
    "# Compose two vectors (under addition)\n",
    "display(GroupOps.compose(sf.V2(1, 2), sf.V2(3, -5)))"
   ]
  },
  {
   "cell_type": "code",
   "execution_count": 13,
   "metadata": {},
   "outputs": [
    {
     "data": {
      "text/plain": [
       "<Rot3 <Q xyzw=[0, 0, 0, 1]>>"
      ]
     },
     "metadata": {},
     "output_type": "display_data"
    }
   ],
   "source": [
    "# Compose a rotation and its inverse to get identity\n",
    "R1 = sf.Rot3.from_angle_axis(\n",
    "    angle=sf.Symbol(\"theta1\"),\n",
    "    axis=sf.V3(0, 0, 1),\n",
    ")\n",
    "display(StorageOps.simplify(GroupOps.compose(R1, R1.inverse()).simplify()))"
   ]
  },
  {
   "cell_type": "code",
   "execution_count": 14,
   "metadata": {},
   "outputs": [
    {
     "data": {
      "text/plain": [
       "<Rot3 <Q xyzw=[0, 0, sin(theta2/2), cos(theta2/2)]>>"
      ]
     },
     "metadata": {},
     "output_type": "display_data"
    },
    {
     "data": {
      "text/plain": [
       "<Rot3 <Q xyzw=[0, 0, sin(theta2/2), cos(theta2/2)]>>"
      ]
     },
     "metadata": {},
     "output_type": "display_data"
    }
   ],
   "source": [
    "# Relative rotation using `.between()`\n",
    "R2 = sf.Rot3.from_angle_axis(\n",
    "    angle=sf.Symbol(\"theta2\"),\n",
    "    axis=sf.V3(0, 0, 1),\n",
    ")\n",
    "R_delta = GroupOps.between(R1, R2)\n",
    "display(R2)\n",
    "display(StorageOps.simplify(GroupOps.compose(R1, R_delta)))"
   ]
  },
  {
   "cell_type": "markdown",
   "metadata": {},
   "source": [
    "# LieGroupOps\n",
    "LieGroupOps: Group that is also a differentiable manifold, such that calculus applies.\n",
    "\n",
    "Methods: .tangent_dim(), .from_tangent(), to_tangent(), .retract(), .local_coordinates(), .storage_D_tangent()\n",
    "\n",
    "Lie group operations provide the core methods for nonlinear optimization.\n",
    "Familiarity is not expected for all users, but learning is encouraged!"
   ]
  },
  {
   "cell_type": "code",
   "execution_count": 15,
   "metadata": {},
   "outputs": [
    {
     "data": {
      "image/png": "[encoded data removed]",
      "text/latex": [
       "$\\displaystyle 3$"
      ],
      "text/plain": [
       "3"
      ]
     },
     "metadata": {},
     "output_type": "display_data"
    }
   ],
   "source": [
    "# Underlying dimension of a 3D rotation's tangent space\n",
    "display(LieGroupOps.tangent_dim(sf.Rot3))"
   ]
  },
  {
   "cell_type": "code",
   "execution_count": 16,
   "metadata": {},
   "outputs": [
    {
     "data": {
      "text/latex": [
       "$\\displaystyle \\left[\\begin{matrix}\\cos{\\left(\\theta \\right)} & - \\sin{\\left(\\theta \\right)}\\\\\\sin{\\left(\\theta \\right)} & \\cos{\\left(\\theta \\right)}\\end{matrix}\\right]$"
      ],
      "text/plain": [
       "⎡cos(θ)  -sin(θ)⎤\n",
       "⎢               ⎥\n",
       "⎣sin(θ)  cos(θ) ⎦"
      ]
     },
     "metadata": {},
     "output_type": "display_data"
    }
   ],
   "source": [
    "# Exponential map (tangent space vector wrt identity element) for a 2D rotation\n",
    "angle = sf.Symbol(\"theta\")\n",
    "rot2 = LieGroupOps.from_tangent(sf.Rot2, [angle])\n",
    "display(rot2.to_rotation_matrix())"
   ]
  },
  {
   "cell_type": "code",
   "execution_count": 17,
   "metadata": {},
   "outputs": [
    {
     "data": {
      "image/png": "[encoded data removed]",
      "text/latex": [
       "$\\displaystyle \\left[ \\operatorname{atan_{2}}{\\left(\\sin{\\left(\\theta \\right)},\\cos{\\left(\\theta \\right)} \\right)}\\right]$"
      ],
      "text/plain": [
       "[atan2(sin(θ), cos(θ))]"
      ]
     },
     "metadata": {},
     "output_type": "display_data"
    }
   ],
   "source": [
    "# Logarithmic map (tangent space wrt identity element -> element) of the rotation\n",
    "display(LieGroupOps.to_tangent(rot2))"
   ]
  },
  {
   "cell_type": "code",
   "execution_count": 18,
   "metadata": {},
   "outputs": [
    {
     "data": {
      "text/latex": [
       "$\\displaystyle \\left[\\begin{matrix}1 & 2 & 3 & 4 & 5\\end{matrix}\\right]$"
      ],
      "text/plain": [
       "[1  2  3  4  5]"
      ]
     },
     "metadata": {},
     "output_type": "display_data"
    }
   ],
   "source": [
    "# Exponential map of a vector type is a no-op\n",
    "display(LieGroupOps.from_tangent(sf.V5(), [1, 2, 3, 4, 5]).T)"
   ]
  },
  {
   "cell_type": "code",
   "execution_count": 20,
   "metadata": {},
   "outputs": [
    {
     "data": {
      "text/latex": [
       "$\\displaystyle \\left[\\begin{matrix}- \\sin{\\left(\\delta \\right)} \\sin{\\left(\\theta \\right)} + \\cos{\\left(\\delta \\right)} \\cos{\\left(\\theta \\right)} & - \\sin{\\left(\\delta \\right)} \\cos{\\left(\\theta \\right)} - \\sin{\\left(\\theta \\right)} \\cos{\\left(\\delta \\right)}\\\\\\sin{\\left(\\delta \\right)} \\cos{\\left(\\theta \\right)} + \\sin{\\left(\\theta \\right)} \\cos{\\left(\\delta \\right)} & - \\sin{\\left(\\delta \\right)} \\sin{\\left(\\theta \\right)} + \\cos{\\left(\\delta \\right)} \\cos{\\left(\\theta \\right)}\\end{matrix}\\right]$"
      ],
      "text/plain": [
       "⎡-sin(δ)⋅sin(θ) + cos(δ)⋅cos(θ)  -sin(δ)⋅cos(θ) - sin(θ)⋅cos(δ)⎤\n",
       "⎢                                                              ⎥\n",
       "⎣sin(δ)⋅cos(θ) + sin(θ)⋅cos(δ)   -sin(δ)⋅sin(θ) + cos(δ)⋅cos(θ)⎦"
      ]
     },
     "metadata": {},
     "output_type": "display_data"
    },
    {
     "data": {
      "image/png": "[encoded data removed]",
      "text/latex": [
       "$\\displaystyle \\left[ \\operatorname{atan_{2}}{\\left(\\sin{\\left(\\delta \\right)} \\cos{\\left(\\theta \\right)} + \\sin{\\left(\\theta \\right)} \\cos{\\left(\\delta \\right)},- \\sin{\\left(\\delta \\right)} \\sin{\\left(\\theta \\right)} + \\cos{\\left(\\delta \\right)} \\cos{\\left(\\theta \\right)} \\right)}\\right]$"
      ],
      "text/plain": [
       "[atan2(sin(δ)⋅cos(θ) + sin(θ)⋅cos(δ), -sin(δ)⋅sin(θ) + cos(δ)⋅cos(θ))]"
      ]
     },
     "metadata": {},
     "output_type": "display_data"
    }
   ],
   "source": [
    "# Retract perturbs the given element in the tangent space and returns the\n",
    "# updated element\n",
    "rot2_perturbed = LieGroupOps.retract(rot2, [sf.Symbol(\"delta\")]) # compose(a, from_tangent(vec)).\n",
    "display(rot2_perturbed.to_rotation_matrix())\n",
    "display(rot2_perturbed.to_tangent())"
   ]
  },
  {
   "cell_type": "code",
   "execution_count": 21,
   "metadata": {},
   "outputs": [
    {
     "data": {
      "image/png": "[encoded data removed]",
      "text/latex": [
       "$\\displaystyle \\left[ \\operatorname{atan_{2}}{\\left(\\sin{\\left(\\delta \\right)},\\cos{\\left(\\delta \\right)} \\right)}\\right]$"
      ],
      "text/plain": [
       "[atan2(sin(δ), cos(δ))]"
      ]
     },
     "metadata": {},
     "output_type": "display_data"
    }
   ],
   "source": [
    "# Local coordinates compute the tangent space perturbation between one element\n",
    "# and another\n",
    "display(StorageOps.simplify(LieGroupOps.local_coordinates(rot2, rot2_perturbed)))"
   ]
  },
  {
   "cell_type": "code",
   "execution_count": 22,
   "metadata": {},
   "outputs": [
    {
     "data": {
      "text/latex": [
       "$\\displaystyle \\left[\\begin{matrix}- \\sin{\\left(\\theta \\right)}\\\\\\cos{\\left(\\theta \\right)}\\end{matrix}\\right]$"
      ],
      "text/plain": [
       "⎡-sin(θ)⎤\n",
       "⎢       ⎥\n",
       "⎣cos(θ) ⎦"
      ]
     },
     "metadata": {},
     "output_type": "display_data"
    }
   ],
   "source": [
    "# storage_D_tangent computes the jacobian of the storage space of an object with\n",
    "# respect to the tangent space around the element.\n",
    "\n",
    "# A 2D rotation is represented by a complex number, so storage_D_tangent\n",
    "# represents how that complex number will change given an infinitesimal\n",
    "# perturbation in the tangent space\n",
    "display(LieGroupOps.storage_D_tangent(rot2))"
   ]
  },
  {
   "cell_type": "markdown",
   "metadata": {},
   "source": [
    "Using symbolic geometric types and concepts is already very powerful for development and analysis of robotics, but operating on symbolic objects at runtime is much too slow for most applications. However, symbolic expressions can be beautifully set to fast runtime code."
   ]
  },
  {
   "cell_type": "code",
   "execution_count": 42,
   "metadata": {},
   "outputs": [
    {
     "data": {
      "text/latex": [
       "$\\displaystyle \\left[\\begin{matrix}\\frac{Ri_{w}}{2} & - \\frac{Ri_{z}}{2} & \\frac{Ri_{y}}{2}\\\\\\frac{Ri_{z}}{2} & \\frac{Ri_{w}}{2} & - \\frac{Ri_{x}}{2}\\\\- \\frac{Ri_{y}}{2} & \\frac{Ri_{x}}{2} & \\frac{Ri_{w}}{2}\\\\- \\frac{Ri_{x}}{2} & - \\frac{Ri_{y}}{2} & - \\frac{Ri_{z}}{2}\\end{matrix}\\right]$"
      ],
      "text/plain": [
       "⎡ Ri_w   -Ri_z    Ri_y ⎤\n",
       "⎢ ────   ──────   ──── ⎥\n",
       "⎢  2       2       2   ⎥\n",
       "⎢                      ⎥\n",
       "⎢ Ri_z    Ri_w   -Riₓ  ⎥\n",
       "⎢ ────    ────   ───── ⎥\n",
       "⎢  2       2       2   ⎥\n",
       "⎢                      ⎥\n",
       "⎢-Ri_y    Riₓ     Ri_w ⎥\n",
       "⎢──────   ───     ──── ⎥\n",
       "⎢  2       2       2   ⎥\n",
       "⎢                      ⎥\n",
       "⎢-Riₓ    -Ri_y   -Ri_z ⎥\n",
       "⎢─────   ──────  ──────⎥\n",
       "⎣  2       2       2   ⎦"
      ]
     },
     "metadata": {},
     "output_type": "display_data"
    },
    {
     "data": {
      "image/png": "[encoded data removed]",
      "text/latex": [
       "$\\displaystyle \\left[ \\frac{2 \\cdot \\left(2 \\min\\left(0, \\operatorname{sign}{\\left(Ri_{w} Rj_{w} + Ri_{x} Rj_{x} + Ri_{y} Rj_{y} + Ri_{z} Rj_{z} \\right)}\\right) + 1\\right) \\left(Ri_{w} Rj_{x} - Ri_{x} Rj_{w} - Ri_{y} Rj_{z} + Ri_{z} Rj_{y}\\right) \\operatorname{acos}{\\left(\\min\\left(1.0, \\left|{Ri_{w} Rj_{w} + Ri_{x} Rj_{x} + Ri_{y} Rj_{y} + Ri_{z} Rj_{z}}\\right|\\right) \\right)}}{\\sqrt{1 - \\min\\left(1.0, \\left|{Ri_{w} Rj_{w} + Ri_{x} Rj_{x} + Ri_{y} Rj_{y} + Ri_{z} Rj_{z}}\\right|\\right)^{2}}}, \\  \\frac{2 \\cdot \\left(2 \\min\\left(0, \\operatorname{sign}{\\left(Ri_{w} Rj_{w} + Ri_{x} Rj_{x} + Ri_{y} Rj_{y} + Ri_{z} Rj_{z} \\right)}\\right) + 1\\right) \\left(Ri_{w} Rj_{y} + Ri_{x} Rj_{z} - Ri_{y} Rj_{w} - Ri_{z} Rj_{x}\\right) \\operatorname{acos}{\\left(\\min\\left(1.0, \\left|{Ri_{w} Rj_{w} + Ri_{x} Rj_{x} + Ri_{y} Rj_{y} + Ri_{z} Rj_{z}}\\right|\\right) \\right)}}{\\sqrt{1 - \\min\\left(1.0, \\left|{Ri_{w} Rj_{w} + Ri_{x} Rj_{x} + Ri_{y} Rj_{y} + Ri_{z} Rj_{z}}\\right|\\right)^{2}}}, \\  \\frac{2 \\cdot \\left(2 \\min\\left(0, \\operatorname{sign}{\\left(Ri_{w} Rj_{w} + Ri_{x} Rj_{x} + Ri_{y} Rj_{y} + Ri_{z} Rj_{z} \\right)}\\right) + 1\\right) \\left(Ri_{w} Rj_{z} - Ri_{x} Rj_{y} + Ri_{y} Rj_{x} - Ri_{z} Rj_{w}\\right) \\operatorname{acos}{\\left(\\min\\left(1.0, \\left|{Ri_{w} Rj_{w} + Ri_{x} Rj_{x} + Ri_{y} Rj_{y} + Ri_{z} Rj_{z}}\\right|\\right) \\right)}}{\\sqrt{1 - \\min\\left(1.0, \\left|{Ri_{w} Rj_{w} + Ri_{x} Rj_{x} + Ri_{y} Rj_{y} + Ri_{z} Rj_{z}}\\right|\\right)^{2}}}\\right]$"
      ],
      "text/plain": [
       "⎡2⋅(2⋅Min(0, sign(Ri_w*Rj_w + Ri_x*Rj_x + Ri_y*Rj_y + Ri_z*Rj_z)) + 1)⋅(Ri_w⋅R\n",
       "⎢─────────────────────────────────────────────────────────────────────────────\n",
       "⎢                                                           __________________\n",
       "⎢                                                          ╱                  \n",
       "⎣                                                        ╲╱  1 - Min(1.0, Abs(\n",
       "\n",
       "jₓ - Riₓ⋅Rj_w - Ri_y⋅Rj_z + Ri_z⋅Rj_y)⋅acos(Min(1.0, Abs(Ri_w*Rj_w + Ri_x*Rj_x\n",
       "──────────────────────────────────────────────────────────────────────────────\n",
       "_________________________________________________                             \n",
       "                                               2                              \n",
       "Ri_w*Rj_w + Ri_x*Rj_x + Ri_y*Rj_y + Ri_z*Rj_z))                               \n",
       "\n",
       " + Ri_y*Rj_y + Ri_z*Rj_z)))  2⋅(2⋅Min(0, sign(Ri_w*Rj_w + Ri_x*Rj_x + Ri_y*Rj_\n",
       "───────────────────────────, ─────────────────────────────────────────────────\n",
       "                                                                              \n",
       "                                                                              \n",
       "                                                                              \n",
       "\n",
       "y + Ri_z*Rj_z)) + 1)⋅(Ri_w⋅Rj_y + Riₓ⋅Rj_z - Ri_y⋅Rj_w - Ri_z⋅Rjₓ)⋅acos(Min(1.\n",
       "──────────────────────────────────────────────────────────────────────────────\n",
       "          ___________________________________________________________________ \n",
       "         ╱                                                                 2  \n",
       "       ╲╱  1 - Min(1.0, Abs(Ri_w*Rj_w + Ri_x*Rj_x + Ri_y*Rj_y + Ri_z*Rj_z))   \n",
       "\n",
       "0, Abs(Ri_w*Rj_w + Ri_x*Rj_x + Ri_y*Rj_y + Ri_z*Rj_z)))  2⋅(2⋅Min(0, sign(Ri_w\n",
       "───────────────────────────────────────────────────────, ─────────────────────\n",
       "                                                                              \n",
       "                                                                              \n",
       "                                                                              \n",
       "\n",
       "*Rj_w + Ri_x*Rj_x + Ri_y*Rj_y + Ri_z*Rj_z)) + 1)⋅(Ri_w⋅Rj_z - Riₓ⋅Rj_y + Ri_y⋅\n",
       "──────────────────────────────────────────────────────────────────────────────\n",
       "                                      ________________________________________\n",
       "                                     ╱                                        \n",
       "                                   ╲╱  1 - Min(1.0, Abs(Ri_w*Rj_w + Ri_x*Rj_x \n",
       "\n",
       "Rjₓ - Ri_z⋅Rj_w)⋅acos(Min(1.0, Abs(Ri_w*Rj_w + Ri_x*Rj_x + Ri_y*Rj_y + Ri_z*Rj\n",
       "──────────────────────────────────────────────────────────────────────────────\n",
       "___________________________                                                   \n",
       "                         2                                                    \n",
       "+ Ri_y*Rj_y + Ri_z*Rj_z))                                                     \n",
       "\n",
       "_z)))⎤\n",
       "─────⎥\n",
       "     ⎥\n",
       "     ⎥\n",
       "     ⎦"
      ]
     },
     "metadata": {},
     "output_type": "display_data"
    },
    {
     "data": {
      "image/png": "[encoded data removed]",
      "text/latex": [
       "$\\displaystyle \\left[ \\frac{2 Rj_{x} \\left(2 \\min\\left(0, \\operatorname{sign}{\\left(Rj_{w} \\right)}\\right) + 1\\right) \\operatorname{acos}{\\left(\\min\\left(1.0, \\left|{Rj_{w}}\\right|\\right) \\right)}}{\\sqrt{1 - \\min\\left(1.0, \\left|{Rj_{w}}\\right|\\right)^{2}}}, \\  \\frac{2 Rj_{y} \\left(2 \\min\\left(0, \\operatorname{sign}{\\left(Rj_{w} \\right)}\\right) + 1\\right) \\operatorname{acos}{\\left(\\min\\left(1.0, \\left|{Rj_{w}}\\right|\\right) \\right)}}{\\sqrt{1 - \\min\\left(1.0, \\left|{Rj_{w}}\\right|\\right)^{2}}}, \\  \\frac{2 Rj_{z} \\left(2 \\min\\left(0, \\operatorname{sign}{\\left(Rj_{w} \\right)}\\right) + 1\\right) \\operatorname{acos}{\\left(\\min\\left(1.0, \\left|{Rj_{w}}\\right|\\right) \\right)}}{\\sqrt{1 - \\min\\left(1.0, \\left|{Rj_{w}}\\right|\\right)^{2}}}\\right]$"
      ],
      "text/plain": [
       "⎡2⋅Rjₓ⋅(2⋅Min(0, sign(Rj_w)) + 1)⋅acos(Min(1.0, Abs(Rj_w)))  2⋅Rj_y⋅(2⋅Min(0, \n",
       "⎢──────────────────────────────────────────────────────────, ─────────────────\n",
       "⎢                 __________________________                                  \n",
       "⎢                ╱                        2                                   \n",
       "⎣              ╲╱  1 - Min(1.0, Abs(Rj_w))                                  ╲╱\n",
       "\n",
       "sign(Rj_w)) + 1)⋅acos(Min(1.0, Abs(Rj_w)))  2⋅Rj_z⋅(2⋅Min(0, sign(Rj_w)) + 1)⋅\n",
       "──────────────────────────────────────────, ──────────────────────────────────\n",
       " __________________________                                   ________________\n",
       "╱                        2                                   ╱                \n",
       "  1 - Min(1.0, Abs(Rj_w))                                  ╲╱  1 - Min(1.0, Ab\n",
       "\n",
       "acos(Min(1.0, Abs(Rj_w)))⎤\n",
       "─────────────────────────⎥\n",
       "__________               ⎥\n",
       "        2                ⎥\n",
       "s(Rj_w))                 ⎦"
      ]
     },
     "metadata": {},
     "output_type": "display_data"
    },
    {
     "data": {
      "text/latex": [
       "$\\displaystyle \\left[\\begin{matrix}L_{0} \\left(- 2 Ri_{y}^{2} - 2 Ri_{z}^{2} + 1\\right) + L_{1} \\cdot \\left(2 Ri_{w} Ri_{z} + 2 Ri_{x} Ri_{y}\\right) + L_{2} \\left(- 2 Ri_{w} Ri_{y} + 2 Ri_{x} Ri_{z}\\right)\\\\L_{0} \\left(- 2 Ri_{w} Ri_{z} + 2 Ri_{x} Ri_{y}\\right) + L_{1} \\left(- 2 Ri_{x}^{2} - 2 Ri_{z}^{2} + 1\\right) + L_{2} \\cdot \\left(2 Ri_{w} Ri_{x} + 2 Ri_{y} Ri_{z}\\right)\\\\L_{0} \\cdot \\left(2 Ri_{w} Ri_{y} + 2 Ri_{x} Ri_{z}\\right) + L_{1} \\left(- 2 Ri_{w} Ri_{x} + 2 Ri_{y} Ri_{z}\\right) + L_{2} \\left(- 2 Ri_{x}^{2} - 2 Ri_{y}^{2} + 1\\right)\\end{matrix}\\right]$"
      ],
      "text/plain": [
       "⎡   ⎛        2         2    ⎞                                                 \n",
       "⎢L₀⋅⎝- 2⋅Ri_y  - 2⋅Ri_z  + 1⎠ + L₁⋅(2⋅Ri_w⋅Ri_z + 2⋅Riₓ⋅Ri_y) + L₂⋅(-2⋅Ri_w⋅Ri\n",
       "⎢                                                                             \n",
       "⎢                                    ⎛       2         2    ⎞                 \n",
       "⎢L₀⋅(-2⋅Ri_w⋅Ri_z + 2⋅Riₓ⋅Ri_y) + L₁⋅⎝- 2⋅Riₓ  - 2⋅Ri_z  + 1⎠ + L₂⋅(2⋅Ri_w⋅Riₓ\n",
       "⎢                                                                             \n",
       "⎢                                                                    ⎛       2\n",
       "⎣L₀⋅(2⋅Ri_w⋅Ri_y + 2⋅Riₓ⋅Ri_z) + L₁⋅(-2⋅Ri_w⋅Riₓ + 2⋅Ri_y⋅Ri_z) + L₂⋅⎝- 2⋅Riₓ \n",
       "\n",
       "                ⎤\n",
       "_y + 2⋅Riₓ⋅Ri_z)⎥\n",
       "                ⎥\n",
       "                ⎥\n",
       " + 2⋅Ri_y⋅Ri_z) ⎥\n",
       "                ⎥\n",
       "         2    ⎞ ⎥\n",
       " - 2⋅Ri_y  + 1⎠ ⎦"
      ]
     },
     "metadata": {},
     "output_type": "display_data"
    },
    {
     "data": {
      "text/latex": [
       "$\\displaystyle \\left[\\begin{matrix}0 & L_{0} \\left(- 2 Ri_{w} Ri_{y} - 2 Ri_{x} Ri_{z}\\right) + L_{1} \\cdot \\left(2 Ri_{w} Ri_{x} - 2 Ri_{y} Ri_{z}\\right) + L_{2} \\left(- Ri_{w}^{2} + Ri_{x}^{2} + Ri_{y}^{2} - Ri_{z}^{2}\\right) & L_{0} \\left(- 2 Ri_{w} Ri_{z} + 2 Ri_{x} Ri_{y}\\right) + L_{1} \\left(Ri_{w}^{2} - Ri_{x}^{2} + Ri_{y}^{2} - Ri_{z}^{2}\\right) + L_{2} \\cdot \\left(2 Ri_{w} Ri_{x} + 2 Ri_{y} Ri_{z}\\right)\\\\L_{0} \\cdot \\left(2 Ri_{w} Ri_{y} + 2 Ri_{x} Ri_{z}\\right) + L_{1} \\left(- 2 Ri_{w} Ri_{x} + 2 Ri_{y} Ri_{z}\\right) + L_{2} \\left(Ri_{w}^{2} - Ri_{x}^{2} - Ri_{y}^{2} + Ri_{z}^{2}\\right) & 0 & L_{0} \\left(- Ri_{w}^{2} - Ri_{x}^{2} + Ri_{y}^{2} + Ri_{z}^{2}\\right) + L_{1} \\left(- 2 Ri_{w} Ri_{z} - 2 Ri_{x} Ri_{y}\\right) + L_{2} \\cdot \\left(2 Ri_{w} Ri_{y} - 2 Ri_{x} Ri_{z}\\right)\\\\L_{0} \\cdot \\left(2 Ri_{w} Ri_{z} - 2 Ri_{x} Ri_{y}\\right) + L_{1} \\left(- Ri_{w}^{2} + Ri_{x}^{2} - Ri_{y}^{2} + Ri_{z}^{2}\\right) + L_{2} \\left(- 2 Ri_{w} Ri_{x} - 2 Ri_{y} Ri_{z}\\right) & L_{0} \\left(Ri_{w}^{2} + Ri_{x}^{2} - Ri_{y}^{2} - Ri_{z}^{2}\\right) + L_{1} \\cdot \\left(2 Ri_{w} Ri_{z} + 2 Ri_{x} Ri_{y}\\right) + L_{2} \\left(- 2 Ri_{w} Ri_{y} + 2 Ri_{x} Ri_{z}\\right) & 0\\end{matrix}\\right]$"
      ],
      "text/plain": [
       "⎡                                                                             \n",
       "⎢                                                 0                           \n",
       "⎢                                                                             \n",
       "⎢                                                                     ⎛    2  \n",
       "⎢ L₀⋅(2⋅Ri_w⋅Ri_y + 2⋅Riₓ⋅Ri_z) + L₁⋅(-2⋅Ri_w⋅Riₓ + 2⋅Ri_y⋅Ri_z) + L₂⋅⎝Ri_w  -\n",
       "⎢                                                                             \n",
       "⎢                                   ⎛      2      2       2       2⎞          \n",
       "⎣L₀⋅(2⋅Ri_w⋅Ri_z - 2⋅Riₓ⋅Ri_y) + L₁⋅⎝- Ri_w  + Riₓ  - Ri_y  + Ri_z ⎠ + L₂⋅(-2⋅\n",
       "\n",
       "                                                                              \n",
       "                         L₀⋅(-2⋅Ri_w⋅Ri_y - 2⋅Riₓ⋅Ri_z) + L₁⋅(2⋅Ri_w⋅Riₓ - 2⋅R\n",
       "                                                                              \n",
       "    2       2       2⎞                                                        \n",
       " Riₓ  - Ri_y  + Ri_z ⎠                                                    0   \n",
       "                                                                              \n",
       "                             ⎛    2      2       2       2⎞                   \n",
       "Ri_w⋅Riₓ - 2⋅Ri_y⋅Ri_z)   L₀⋅⎝Ri_w  + Riₓ  - Ri_y  - Ri_z ⎠ + L₁⋅(2⋅Ri_w⋅Ri_z \n",
       "\n",
       "               ⎛      2      2       2       2⎞                               \n",
       "i_y⋅Ri_z) + L₂⋅⎝- Ri_w  + Riₓ  + Ri_y  - Ri_z ⎠   L₀⋅(-2⋅Ri_w⋅Ri_z + 2⋅Riₓ⋅Ri_\n",
       "                                                                              \n",
       "                                                    ⎛      2      2       2   \n",
       "                                                 L₀⋅⎝- Ri_w  - Riₓ  + Ri_y  + \n",
       "                                                                              \n",
       "                                                                              \n",
       "+ 2⋅Riₓ⋅Ri_y) + L₂⋅(-2⋅Ri_w⋅Ri_y + 2⋅Riₓ⋅Ri_z)                                \n",
       "\n",
       "        ⎛    2      2       2       2⎞                                 ⎤\n",
       "y) + L₁⋅⎝Ri_w  - Riₓ  + Ri_y  - Ri_z ⎠ + L₂⋅(2⋅Ri_w⋅Riₓ + 2⋅Ri_y⋅Ri_z) ⎥\n",
       "                                                                       ⎥\n",
       "    2⎞                                                                 ⎥\n",
       "Ri_z ⎠ + L₁⋅(-2⋅Ri_w⋅Ri_z - 2⋅Riₓ⋅Ri_y) + L₂⋅(2⋅Ri_w⋅Ri_y - 2⋅Riₓ⋅Ri_z)⎥\n",
       "                                                                       ⎥\n",
       "                                                                       ⎥\n",
       "                    0                                                  ⎦"
      ]
     },
     "metadata": {},
     "output_type": "display_data"
    }
   ],
   "source": [
    "Ri = sf.Rot3.symbolic(\"Ri\")\n",
    "Rj = sf.Rot3.symbolic(\"Rj\")\n",
    "deltaR = LieGroupOps.local_coordinates(Ri, Rj)\n",
    "display(LieGroupOps.storage_D_tangent(Ri))\n",
    "\n",
    "display(deltaR)\n",
    "\n",
    "drj = LieGroupOps.to_tangent(Rj)\n",
    "display(drj)\n",
    "Rij = LieGroupOps.retract(Ri, drj)\n",
    "\n",
    "landmark = sf.V3.symbolic(\"L\")\n",
    "landmark_cam = Ri.inverse() * landmark\n",
    "display(landmark_cam)\n",
    "display(landmark_cam.jacobian(Ri))"
   ]
  },
  {
   "cell_type": "code",
   "execution_count": null,
   "metadata": {},
   "outputs": [],
   "source": []
  }
 ],
 "metadata": {
  "kernelspec": {
   "display_name": "Python 3.9.12 ('robot_ml')",
   "language": "python",
   "name": "python3"
  },
  "language_info": {
   "codemirror_mode": {
    "name": "ipython",
    "version": 3
   },
   "file_extension": ".py",
   "mimetype": "text/x-python",
   "name": "python",
   "nbconvert_exporter": "python",
   "pygments_lexer": "ipython3",
   "version": "3.9.12"
  },
  "orig_nbformat": 4,
  "vscode": {
   "interpreter": {
    "hash": "5c11ad2b3e868973e9c5433eb1f36de7a5a08246a349f67b6dc65c44af7ff32c"
   }
  }
 },
 "nbformat": 4,
 "nbformat_minor": 2
}
