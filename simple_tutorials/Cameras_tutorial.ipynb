{
 "cells": [
  {
   "cell_type": "markdown",
   "metadata": {},
   "source": [
    "# Cameras Tutorial\n",
    "This is an introductory walkthrough of the symbolic cameras package in symforce.\n",
    "https://symforce.org/tutorials/cameras_tutorial.html"
   ]
  },
  {
   "cell_type": "code",
   "execution_count": 1,
   "metadata": {},
   "outputs": [],
   "source": [
    "# Setup\n",
    "import symforce\n",
    "\n",
    "symforce.set_symbolic_api(\"sympy\")\n",
    "symforce.set_log_level(\"warning\")\n",
    "\n",
    "from symforce.notebook_util import display\n",
    "import symforce.symbolic as sf"
   ]
  },
  {
   "cell_type": "code",
   "execution_count": 2,
   "metadata": {},
   "outputs": [
    {
     "data": {
      "text/plain": [
       "<LinearCameraCal\n",
       "  focal_length=[cal.f_x, cal.f_y],\n",
       "  principal_point=[cal.c_x, cal.c_y],\n",
       "  distortion_coeffs=[]>"
      ]
     },
     "metadata": {},
     "output_type": "display_data"
    }
   ],
   "source": [
    "#Let’s start by creating a linear camera calibration object:\n",
    "\n",
    "linear_camera_cal = sf.LinearCameraCal.symbolic(\"cal\")\n",
    "display(linear_camera_cal)"
   ]
  },
  {
   "cell_type": "code",
   "execution_count": 3,
   "metadata": {},
   "outputs": [
    {
     "data": {
      "text/latex": [
       "$\\displaystyle \\left[\\begin{matrix}\\frac{- cal.c_{x} + p_{0}}{cal.f_{x}}\\\\\\frac{- cal.c_{y} + p_{1}}{cal.f_{y}}\\\\1\\end{matrix}\\right]$"
      ],
      "text/plain": [
       "⎡-cal.cₓ + p₀ ⎤\n",
       "⎢──────────── ⎥\n",
       "⎢   cal.fₓ    ⎥\n",
       "⎢             ⎥\n",
       "⎢-cal.c_y + p₁⎥\n",
       "⎢─────────────⎥\n",
       "⎢   cal.f_y   ⎥\n",
       "⎢             ⎥\n",
       "⎣      1      ⎦"
      ]
     },
     "metadata": {},
     "output_type": "display_data"
    }
   ],
   "source": [
    "#This lets us project/deproject points written in the camera frame as so:\n",
    "camera_point = sf.V3.symbolic(\"p\") # 2D pixel point\n",
    "camera_ray, _ = linear_camera_cal.camera_ray_from_pixel(camera_point) #Backproject a 2D pixel coordinate into a 3D ray in the camera frame.\n",
    "display(camera_ray)"
   ]
  },
  {
   "cell_type": "code",
   "execution_count": 4,
   "metadata": {},
   "outputs": [
    {
     "data": {
      "text/latex": [
       "$\\displaystyle \\left[\\begin{matrix}p_{0}\\\\p_{1}\\end{matrix}\\right]$"
      ],
      "text/plain": [
       "⎡p₀⎤\n",
       "⎢  ⎥\n",
       "⎣p₁⎦"
      ]
     },
     "metadata": {},
     "output_type": "display_data"
    }
   ],
   "source": [
    "camera_point_reprojected, _ = linear_camera_cal.pixel_from_camera_point(camera_ray) #Project a 3D ray in the camera frame into a 2D pixel coordinate.\n",
    "display(camera_point_reprojected)"
   ]
  },
  {
   "cell_type": "code",
   "execution_count": 6,
   "metadata": {},
   "outputs": [
    {
     "data": {
      "text/plain": [
       "<Camera\n",
       "  CameraCal=<LinearCameraCal\n",
       "  focal_length=[440, 400],\n",
       "  principal_point=[320, 240],\n",
       "  distortion_coeffs=[]>\n",
       "  image_size=[640, 480]>"
      ]
     },
     "metadata": {},
     "output_type": "display_data"
    }
   ],
   "source": [
    "#Using camera calibration objects, we can create cameras with additional parameters, such as an image size:\n",
    "\n",
    "linear_camera = sf.Camera(\n",
    "    calibration=sf.LinearCameraCal(\n",
    "        focal_length = (440, 400), # focal length in pixels\n",
    "        principal_point = (320, 240), # principal point in pixels\n",
    "    ),\n",
    "    image_size = (640, 480), # image size in pixels\n",
    ")\n",
    "display(linear_camera)"
   ]
  },
  {
   "cell_type": "markdown",
   "metadata": {},
   "source": [
    "Now, when projecting points into the image frame, we can check whether the resulting point is in the bounds determined by image_size:"
   ]
  },
  {
   "cell_type": "code",
   "execution_count": 7,
   "metadata": {},
   "outputs": [
    {
     "name": "stdout",
     "output_type": "stream",
     "text": [
      "point=[0, 0, 1] -> pixel=[320, 240] is_valid=1\n",
      "point=[100, 0, 1] -> pixel=[44320, 240] is_valid=0\n"
     ]
    }
   ],
   "source": [
    "point_in_FOV = sf.V3(0, 0, 1) # point in the camera frame\n",
    "point_out_FOV = sf.V3(100, 0, 1) # point out of the camera frame\n",
    "for point in (point_in_FOV, point_out_FOV):\n",
    "    pixel, is_valid = linear_camera.pixel_from_camera_point(point)\n",
    "    print(\n",
    "        \"point={} -> pixel={} is_valid={}\".format(\n",
    "            point.to_storage(),\n",
    "            pixel.to_storage(),\n",
    "            is_valid,\n",
    "        )\n",
    "    )"
   ]
  },
  {
   "cell_type": "code",
   "execution_count": 8,
   "metadata": {},
   "outputs": [
    {
     "data": {
      "text/plain": [
       "<PosedCamera\n",
       "  Pose=<Pose3 R=<Rot3 <Q xyzw=[0, 1, 0, 0]>>, t=(0, 0, 0)>\n",
       "  Camera=<PosedCamera\n",
       "  CameraCal=<LinearCameraCal\n",
       "  focal_length=[440, 400],\n",
       "  principal_point=[320, 240],\n",
       "  distortion_coeffs=[]>\n",
       "  image_size=[640, 480]>>"
      ]
     },
     "metadata": {},
     "output_type": "display_data"
    }
   ],
   "source": [
    "#We can also create a camera with a given pose:\n",
    "linear_posed_camera = sf.PosedCamera(\n",
    "    pose=sf.Pose3(\n",
    "        # camera is spun 180 degrees about y-axis\n",
    "        R=sf.Rot3.from_yaw_pitch_roll(0, sf.pi, 0),\n",
    "        t=sf.V3(),\n",
    "    ),\n",
    "    calibration=linear_camera.calibration,\n",
    "    image_size=(640, 480),\n",
    ")\n",
    "display(linear_posed_camera)\n"
   ]
  },
  {
   "cell_type": "code",
   "execution_count": 9,
   "metadata": {},
   "outputs": [
    {
     "name": "stdout",
     "output_type": "stream",
     "text": [
      "point in global coordinates=[0, 0, -1] (in camera coordinates=[0, 0, 1])\n",
      "global_point=[0, 0, -1] -> pixel=[320, 240], is_valid=1\n"
     ]
    }
   ],
   "source": [
    "#The given pose can be used to transform points between a global frame and the image frame:\n",
    "global_point = sf.V3(0, 0, -1)\n",
    "print(\n",
    "    \"point in global coordinates={} (in camera coordinates={})\".format(\n",
    "        global_point.to_storage(),\n",
    "        (linear_posed_camera.pose * global_point).to_storage(),\n",
    "    )\n",
    ")\n",
    "\n",
    "pixel, is_valid = linear_posed_camera.pixel_from_global_point(global_point)\n",
    "print(\n",
    "    \"global_point={} -> pixel={}, is_valid={}\".format(\n",
    "        global_point.to_storage(), pixel.to_storage(), is_valid\n",
    "    )\n",
    ")\n"
   ]
  },
  {
   "cell_type": "code",
   "execution_count": 10,
   "metadata": {},
   "outputs": [
    {
     "data": {
      "text/latex": [
       "$\\displaystyle \\left[\\begin{matrix}0\\\\0\\\\-1.0\\end{matrix}\\right]$"
      ],
      "text/plain": [
       "⎡ 0  ⎤\n",
       "⎢    ⎥\n",
       "⎢ 0  ⎥\n",
       "⎢    ⎥\n",
       "⎣-1.0⎦"
      ]
     },
     "metadata": {},
     "output_type": "display_data"
    }
   ],
   "source": [
    "# We can also transform points in pixel coordinates back into the global frame (given a range):\n",
    "range_to_point = (global_point - linear_posed_camera.pose.t).norm()\n",
    "global_point_reprojected, is_valid = linear_posed_camera.global_point_from_pixel(\n",
    "    pixel, range_to_point=range_to_point\n",
    ")\n",
    "display(global_point_reprojected)"
   ]
  },
  {
   "cell_type": "markdown",
   "metadata": {},
   "source": [
    "Finally, we can warp points between two posed cameras given the location of the pixel in the source camera, the inverse range to the point, and the target camera to warp the point into."
   ]
  },
  {
   "cell_type": "code",
   "execution_count": 11,
   "metadata": {},
   "outputs": [
    {
     "data": {
      "text/latex": [
       "$\\displaystyle \\left[\\begin{matrix}320\\\\458.520995937516\\end{matrix}\\right]$"
      ],
      "text/plain": [
       "⎡      320       ⎤\n",
       "⎢                ⎥\n",
       "⎣458.520995937516⎦"
      ]
     },
     "metadata": {},
     "output_type": "display_data"
    }
   ],
   "source": [
    "# Perturb second camera slightly from first (small angular change in roll)\n",
    "perturbed_rotation = linear_posed_camera.pose.R * sf.Rot3.from_yaw_pitch_roll(0, 0, 0.5)\n",
    "target_posed_cam = sf.PosedCamera(\n",
    "    pose=sf.Pose3(R=perturbed_rotation, t=sf.V3()),\n",
    "    calibration=linear_camera.calibration,\n",
    ")\n",
    "# Warp pixel from source camera into target camera given inverse range\n",
    "target_pixel, is_valid = linear_posed_camera.warp_pixel(\n",
    "    pixel=sf.V2(320, 240),\n",
    "    inverse_range=1.0,\n",
    "    target_cam=target_posed_cam,\n",
    ")\n",
    "display(target_pixel)"
   ]
  },
  {
   "cell_type": "code",
   "execution_count": 12,
   "metadata": {},
   "outputs": [
    {
     "data": {
      "text/latex": [
       "$\\displaystyle \\left[\\begin{matrix}-0.72576759882138\\\\-0.510725347318749\\\\1\\end{matrix}\\right]$"
      ],
      "text/plain": [
       "⎡-0.72576759882138 ⎤\n",
       "⎢                  ⎥\n",
       "⎢-0.510725347318749⎥\n",
       "⎢                  ⎥\n",
       "⎣        1         ⎦"
      ]
     },
     "metadata": {},
     "output_type": "display_data"
    },
    {
     "data": {
      "text/latex": [
       "$\\displaystyle \\left[\\begin{matrix}49.9999999999999\\\\50.0\\end{matrix}\\right]$"
      ],
      "text/plain": [
       "⎡49.9999999999999⎤\n",
       "⎢                ⎥\n",
       "⎣      50.0      ⎦"
      ]
     },
     "metadata": {},
     "output_type": "display_data"
    }
   ],
   "source": [
    "#In the examples above we used a linear calibration, but we can use other types of calibrations as well:\n",
    "atan_cam = sf.ATANCameraCal(\n",
    "    focal_length=[380.0, 380.0],\n",
    "    principal_point=[320.0, 240.0],\n",
    "    omega=0.35,\n",
    ")\n",
    "camera_ray, is_valid = atan_cam.camera_ray_from_pixel(sf.V2(50.0, 50.0))\n",
    "display(camera_ray)\n",
    "pixel, is_valid = atan_cam.pixel_from_camera_point(camera_ray)\n",
    "display(pixel)"
   ]
  }
 ],
 "metadata": {
  "kernelspec": {
   "display_name": "Python 3.9.12 ('robot_ml')",
   "language": "python",
   "name": "python3"
  },
  "language_info": {
   "codemirror_mode": {
    "name": "ipython",
    "version": 3
   },
   "file_extension": ".py",
   "mimetype": "text/x-python",
   "name": "python",
   "nbconvert_exporter": "python",
   "pygments_lexer": "ipython3",
   "version": "3.9.12"
  },
  "orig_nbformat": 4,
  "vscode": {
   "interpreter": {
    "hash": "5c11ad2b3e868973e9c5433eb1f36de7a5a08246a349f67b6dc65c44af7ff32c"
   }
  }
 },
 "nbformat": 4,
 "nbformat_minor": 2
}
