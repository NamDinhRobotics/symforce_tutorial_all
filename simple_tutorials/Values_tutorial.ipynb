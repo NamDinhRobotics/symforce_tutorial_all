{
 "cells": [
  {
   "cell_type": "markdown",
   "metadata": {},
   "source": [
    "# Values Tutorial\n",
    "https://symforce.org/tutorials/values_tutorial.html\n",
    "\n",
    "Values objects are ordered dict-like containers used to store multiple heterogeneous objects, normally for the purpose of function generation.\n",
    "\n",
    "Typically a Values object will first be created to defines a number of different symbolic inputs (e.g. rotations, translations, scalars, poses, cameras, etc.). Then, a second Values object will be created to describe the objects to be returned from the function, which will be composed of the symbolic elements defined by the input Values object."
   ]
  },
  {
   "cell_type": "code",
   "execution_count": 1,
   "metadata": {},
   "outputs": [],
   "source": [
    "# Setup\n",
    "import symforce\n",
    "\n",
    "symforce.set_symbolic_api(\"sympy\")\n",
    "symforce.set_log_level(\"warning\")\n",
    "\n",
    "import symforce.symbolic as sf\n",
    "from symforce.values import Values\n",
    "from symforce.notebook_util import display, display_code, display_code_file"
   ]
  },
  {
   "cell_type": "code",
   "execution_count": 2,
   "metadata": {},
   "outputs": [
    {
     "data": {
      "text/plain": [
       "Values(\n",
       "  x: x,\n",
       "  y: <Rot2 <C real=c_re, imag=c_im>>,\n",
       ")"
      ]
     },
     "metadata": {},
     "output_type": "display_data"
    }
   ],
   "source": [
    "inputs = Values(\n",
    "    x=sf.Symbol(\"x\"),\n",
    "    y=sf.Rot2.symbolic(\"c\"),\n",
    ")\n",
    "display(inputs)"
   ]
  },
  {
   "cell_type": "code",
   "execution_count": 3,
   "metadata": {},
   "outputs": [
    {
     "data": {
      "text/plain": [
       "Values(\n",
       "  x: x,\n",
       "  y: <Rot2 <C real=c_re, imag=c_im>>,\n",
       "  foo: foo,\n",
       ")"
      ]
     },
     "metadata": {},
     "output_type": "display_data"
    }
   ],
   "source": [
    "#The .add() method can add a symbol using its name as the key:\n",
    "inputs.add(sf.Symbol(\"foo\"))\n",
    "display(inputs)"
   ]
  },
  {
   "cell_type": "code",
   "execution_count": 5,
   "metadata": {},
   "outputs": [
    {
     "data": {
      "text/plain": [
       "Values(\n",
       "  x: x,\n",
       "  y: <Rot2 <C real=c_re, imag=c_im>>,\n",
       "  foo: foo,\n",
       "  states:   Values(\n",
       "    p: x**2 + sin(y)/x**2,\n",
       "  ),\n",
       ")"
      ]
     },
     "metadata": {},
     "output_type": "display_data"
    }
   ],
   "source": [
    "#Adding sub-values are well encouraged:\n",
    "x, y = sf.symbols(\"x y\")\n",
    "expr = x ** 2 + sf.sin(y) / x ** 2\n",
    "inputs[\"states\"] = Values(p=expr)\n",
    "display(inputs)"
   ]
  },
  {
   "cell_type": "code",
   "execution_count": 6,
   "metadata": {},
   "outputs": [
    {
     "data": {
      "image/png": "[encoded data removed]",
      "text/latex": [
       "$\\displaystyle \\left[ x, \\  c_{re}, \\  c_{im}, \\  foo, \\  x^{2} + \\frac{\\sin{\\left(y \\right)}}{x^{2}}\\right]$"
      ],
      "text/plain": [
       "⎡                   2   sin(y)⎤\n",
       "⎢x, cᵣₑ, cᵢₘ, foo, x  + ──────⎥\n",
       "⎢                          2  ⎥\n",
       "⎣                         x   ⎦"
      ]
     },
     "metadata": {},
     "output_type": "display_data"
    }
   ],
   "source": [
    "#A Values serializes to a depth-first traversed list. This means it implements StorageOps:\n",
    "display(inputs.to_storage())"
   ]
  },
  {
   "cell_type": "code",
   "execution_count": 7,
   "metadata": {},
   "outputs": [
    {
     "data": {
      "text/plain": [
       "[('x', x),\n",
       " ('y', <Rot2 <C real=c_re, imag=c_im>>),\n",
       " ('foo', foo),\n",
       " ('states.p', x**2 + sin(y)/x**2)]"
      ]
     },
     "metadata": {},
     "output_type": "display_data"
    }
   ],
   "source": [
    "#We can also get a flattened lists of keys and values, with . separation for sub-values:\n",
    "display(inputs.items_recursive())"
   ]
  },
  {
   "cell_type": "markdown",
   "metadata": {},
   "source": [
    "Note that there is a .keys_recursive() and a .values_recursive() which return flattened lists of keys and values respectively:"
   ]
  },
  {
   "cell_type": "code",
   "execution_count": 8,
   "metadata": {},
   "outputs": [
    {
     "data": {
      "text/plain": [
       "['x', 'y', 'foo', 'states.p']"
      ]
     },
     "metadata": {},
     "output_type": "display_data"
    },
    {
     "data": {
      "text/plain": [
       "[x, <Rot2 <C real=c_re, imag=c_im>>, foo, x**2 + sin(y)/x**2]"
      ]
     },
     "metadata": {},
     "output_type": "display_data"
    }
   ],
   "source": [
    "display(inputs.keys_recursive())\n",
    "display(inputs.values_recursive())"
   ]
  },
  {
   "cell_type": "markdown",
   "metadata": {},
   "source": [
    "To fully reconstruct the types in the Values from the serialized scalars, we need an index that describes which parts of the serialized list correspond to which types. The spec is T.Dict[str, IndexEntry] where IndexEntry has attributes offset, storage_dim, datatype, shape, item_index:"
   ]
  },
  {
   "cell_type": "code",
   "execution_count": 9,
   "metadata": {},
   "outputs": [
    {
     "data": {
      "text/plain": [
       "OrderedDict([('x',\n",
       "  IndexEntry(offset=0, storage_dim=1, _module='builtins', _qualname='float', shape=None, item_index=None)),\n",
       " ('y',\n",
       "  IndexEntry(offset=1, storage_dim=2, _module='symforce.geo.rot2', _qualname='Rot2', shape=None, item_index=None)),\n",
       " ('foo',\n",
       "  IndexEntry(offset=3, storage_dim=1, _module='builtins', _qualname='float', shape=None, item_index=None)),\n",
       " ('states',\n",
       "  IndexEntry(offset=4, storage_dim=1, _module='symforce.values.values', _qualname='Values', shape=None, item_index=OrderedDict([('p', IndexEntry(offset=0, storage_dim=1, _module='builtins', _qualname='float', shape=None, item_index=None))])))])"
      ]
     },
     "execution_count": 9,
     "metadata": {},
     "output_type": "execute_result"
    }
   ],
   "source": [
    "index = inputs.index()\n",
    "index"
   ]
  },
  {
   "cell_type": "code",
   "execution_count": 10,
   "metadata": {},
   "outputs": [
    {
     "data": {
      "text/plain": [
       "Values(\n",
       "  x: x,\n",
       "  y: <Rot2 <C real=c_re, imag=c_im>>,\n",
       "  foo: foo,\n",
       "  states:   Values(\n",
       "    p: x**2 + sin(y)/x**2,\n",
       "  ),\n",
       ")"
      ]
     },
     "metadata": {},
     "output_type": "display_data"
    }
   ],
   "source": [
    "#With a serialized list and an index, we can get the values back:\n",
    "inputs2 = Values.from_storage_index(inputs.to_storage(), index)\n",
    "assert inputs == inputs2\n",
    "display(inputs)"
   ]
  },
  {
   "cell_type": "code",
   "execution_count": 11,
   "metadata": {},
   "outputs": [],
   "source": [
    "#The item_index is a recursive structure that can contain the index for a sub-values:\n",
    "item_index = inputs.index()[\"states\"].item_index\n",
    "assert item_index == inputs[\"states\"].index()"
   ]
  },
  {
   "cell_type": "code",
   "execution_count": 12,
   "metadata": {},
   "outputs": [
    {
     "data": {
      "text/plain": [
       "Values(\n",
       "  x: x,\n",
       "  y: <Rot2 <C real=c_re, imag=c_im>>,\n",
       "  foo: foo,\n",
       "  states:   Values(\n",
       "    p: x**2 + sin(y)/x**2,\n",
       "    blah: 3,\n",
       "  ),\n",
       ")"
      ]
     },
     "metadata": {},
     "output_type": "display_data"
    }
   ],
   "source": [
    "#We can also set sub-values directly with dot notation in the keys. They get split up:\n",
    "inputs[\"states.blah\"] = 3\n",
    "display(inputs)"
   ]
  },
  {
   "cell_type": "markdown",
   "metadata": {},
   "source": [
    "The .attr field also allows attribute access rather than key access"
   ]
  },
  {
   "cell_type": "code",
   "execution_count": 13,
   "metadata": {},
   "outputs": [
    {
     "data": {
      "image/png": "[encoded data removed]",
      "text/latex": [
       "$\\displaystyle x^{2} + \\frac{\\sin{\\left(y \\right)}}{x^{2}}$"
      ],
      "text/plain": [
       " 2   sin(y)\n",
       "x  + ──────\n",
       "        2  \n",
       "       x   "
      ]
     },
     "metadata": {},
     "output_type": "display_data"
    }
   ],
   "source": [
    "assert inputs[\"states.p\"] is inputs[\"states\"][\"p\"] is inputs.attr.states.p\n",
    "display(inputs.attr.states.p)"
   ]
  },
  {
   "cell_type": "markdown",
   "metadata": {},
   "source": [
    "Finally, SymForce adds the concept of a name scope to namespace symbols. Within a scope block, symbol names get prefixed with the scope name:"
   ]
  },
  {
   "cell_type": "code",
   "execution_count": 14,
   "metadata": {},
   "outputs": [
    {
     "data": {
      "image/png": "[encoded data removed]",
      "text/latex": [
       "$\\displaystyle params.cost$"
      ],
      "text/plain": [
       "params.cost"
      ]
     },
     "metadata": {},
     "output_type": "display_data"
    }
   ],
   "source": [
    "with sf.scope(\"params\"):\n",
    "    s = sf.Symbol(\"cost\")\n",
    "display(s)"
   ]
  },
  {
   "cell_type": "markdown",
   "metadata": {},
   "source": [
    "A common use case is to call a function that adds symbols within your own name scope to avoid name collisions. You can also chain name scopes:"
   ]
  },
  {
   "cell_type": "code",
   "execution_count": 15,
   "metadata": {},
   "outputs": [
    {
     "data": {
      "text/plain": [
       "Values(\n",
       "  x: x,\n",
       "  foo:   Values(\n",
       "    x: foo.x,\n",
       "    bar:     Values(\n",
       "      x: foo.bar.x,\n",
       "    ),\n",
       "  ),\n",
       ")"
      ]
     },
     "metadata": {},
     "output_type": "display_data"
    },
    {
     "data": {
      "image/png": "[encoded data removed]",
      "text/latex": [
       "$\\displaystyle foo.bar.x$"
      ],
      "text/plain": [
       "foo.bar.x"
      ]
     },
     "metadata": {},
     "output_type": "display_data"
    }
   ],
   "source": [
    "v = Values()\n",
    "v.add(sf.Symbol(\"x\"))\n",
    "with sf.scope(\"foo\"):\n",
    "    v.add(sf.Symbol(\"x\"))\n",
    "    with sf.scope(\"bar\"):\n",
    "        v.add(sf.Symbol(\"x\"))\n",
    "display(v)\n",
    "display(v.attr.foo.bar.x)"
   ]
  },
  {
   "cell_type": "code",
   "execution_count": 17,
   "metadata": {},
   "outputs": [
    {
     "data": {
      "text/plain": [
       "Values(\n",
       "  hello:   Values(\n",
       "    y: x**2,\n",
       "    z: hello.z,\n",
       "  ),\n",
       ")"
      ]
     },
     "execution_count": 17,
     "metadata": {},
     "output_type": "execute_result"
    }
   ],
   "source": [
    "v = Values()\n",
    "with v.scope(\"hello\"):\n",
    "    v[\"y\"] = x ** 2\n",
    "    v[\"z\"] = sf.Symbol(\"z\")\n",
    "v"
   ]
  },
  {
   "cell_type": "markdown",
   "metadata": {},
   "source": [
    "This flexible set of features provided by the Values class allows conveniently building up large expressions, and acts as the interface to code generation."
   ]
  },
  {
   "cell_type": "markdown",
   "metadata": {},
   "source": [
    "# Lie Group Operations\n",
    "One useful feature of Values objects is that element-wise Lie group operations on can be performed on them."
   ]
  },
  {
   "cell_type": "code",
   "execution_count": 19,
   "metadata": {},
   "outputs": [
    {
     "data": {
      "text/plain": [
       "Values(\n",
       "  scalar: x,\n",
       "  rot3: <Rot3 <Q xyzw=[R_x, R_y, R_z, R_w]>>,\n",
       "  sub_lieGroup:   Values(\n",
       "    pose3: <Pose3 R=<Rot3 <Q xyzw=[T.R_x, T.R_y, T.R_z, T.R_w]>>, t=(T.t0, T.t1, T.t2)>,\n",
       "    vec: Matrix([\n",
       "[v0],\n",
       "[v1],\n",
       "[v2]]),\n",
       "  ),\n",
       ")"
      ]
     },
     "metadata": {},
     "output_type": "display_data"
    }
   ],
   "source": [
    "new_lieGroup = Values()\n",
    "new_lieGroup[\"scalar\"] = sf.Symbol(\"x\")\n",
    "new_lieGroup[\"rot3\"] = sf.Rot3.symbolic(\"R\")\n",
    "\n",
    "sub_lieGroup = Values()\n",
    "sub_lieGroup[\"pose3\"] = sf.Pose3.symbolic(\"T\")\n",
    "sub_lieGroup[\"vec\"] = sf.V3.symbolic(\"v\")\n",
    "\n",
    "new_lieGroup[\"sub_lieGroup\"] = sub_lieGroup\n",
    "\n",
    "display(new_lieGroup)"
   ]
  },
  {
   "cell_type": "code",
   "execution_count": 26,
   "metadata": {},
   "outputs": [
    {
     "data": {
      "image/png": "[encoded data removed]",
      "text/latex": [
       "$\\displaystyle \\left[ x, \\  R_{x}, \\  R_{y}, \\  R_{z}, \\  R_{w}, \\  T.R_{x}, \\  T.R_{y}, \\  T.R_{z}, \\  T.R_{w}, \\  T.t0, \\  T.t1, \\  T.t2, \\  v_{0}, \\  v_{1}, \\  v_{2}\\right]$"
      ],
      "text/plain": [
       "[x, Rₓ, R_y, R_z, R_w, T.Rₓ, T.R_y, T.R_z, T.R_w, T.t0, T.t1, T.t2, v₀, v₁, v₂\n",
       "]"
      ]
     },
     "metadata": {},
     "output_type": "display_data"
    },
    {
     "data": {
      "text/latex": [
       "$\\displaystyle \\left[\\begin{array}{ccccccccccccccc}1 & 0 & 0 & 0 & 0 & 0 & 0 & 0 & 0 & 0 & 0 & 0 & 0 & 0 & 0\\\\0 & 2 R_{w} & 2 R_{z} & - 2 R_{y} & - 2 R_{x} & 0 & 0 & 0 & 0 & 0 & 0 & 0 & 0 & 0 & 0\\\\0 & - 2 R_{z} & 2 R_{w} & 2 R_{x} & - 2 R_{y} & 0 & 0 & 0 & 0 & 0 & 0 & 0 & 0 & 0 & 0\\\\0 & 2 R_{y} & - 2 R_{x} & 2 R_{w} & - 2 R_{z} & 0 & 0 & 0 & 0 & 0 & 0 & 0 & 0 & 0 & 0\\\\0 & 0 & 0 & 0 & 0 & 2 T.R_{w} & 2 T.R_{z} & - 2 T.R_{y} & - 2 T.R_{x} & 0 & 0 & 0 & 0 & 0 & 0\\\\0 & 0 & 0 & 0 & 0 & - 2 T.R_{z} & 2 T.R_{w} & 2 T.R_{x} & - 2 T.R_{y} & 0 & 0 & 0 & 0 & 0 & 0\\\\0 & 0 & 0 & 0 & 0 & 2 T.R_{y} & - 2 T.R_{x} & 2 T.R_{w} & - 2 T.R_{z} & 0 & 0 & 0 & 0 & 0 & 0\\\\0 & 0 & 0 & 0 & 0 & 0 & 0 & 0 & 0 & 1 & 0 & 0 & 0 & 0 & 0\\\\0 & 0 & 0 & 0 & 0 & 0 & 0 & 0 & 0 & 0 & 1 & 0 & 0 & 0 & 0\\\\0 & 0 & 0 & 0 & 0 & 0 & 0 & 0 & 0 & 0 & 0 & 1 & 0 & 0 & 0\\\\0 & 0 & 0 & 0 & 0 & 0 & 0 & 0 & 0 & 0 & 0 & 0 & 1 & 0 & 0\\\\0 & 0 & 0 & 0 & 0 & 0 & 0 & 0 & 0 & 0 & 0 & 0 & 0 & 1 & 0\\\\0 & 0 & 0 & 0 & 0 & 0 & 0 & 0 & 0 & 0 & 0 & 0 & 0 & 0 & 1\\end{array}\\right]$"
      ],
      "text/plain": [
       "⎡1    0       0      0       0        0         0        0         0      0  0\n",
       "⎢                                                                             \n",
       "⎢0  2⋅R_w   2⋅R_z  -2⋅R_y  -2⋅Rₓ      0         0        0         0      0  0\n",
       "⎢                                                                             \n",
       "⎢0  -2⋅R_z  2⋅R_w   2⋅Rₓ   -2⋅R_y     0         0        0         0      0  0\n",
       "⎢                                                                             \n",
       "⎢0  2⋅R_y   -2⋅Rₓ  2⋅R_w   -2⋅R_z     0         0        0         0      0  0\n",
       "⎢                                                                             \n",
       "⎢0    0       0      0       0     2⋅T.R_w   2⋅T.R_z  -2⋅T.R_y  -2⋅T.Rₓ   0  0\n",
       "⎢                                                                             \n",
       "⎢0    0       0      0       0     -2⋅T.R_z  2⋅T.R_w   2⋅T.Rₓ   -2⋅T.R_y  0  0\n",
       "⎢                                                                             \n",
       "⎢0    0       0      0       0     2⋅T.R_y   -2⋅T.Rₓ  2⋅T.R_w   -2⋅T.R_z  0  0\n",
       "⎢                                                                             \n",
       "⎢0    0       0      0       0        0         0        0         0      1  0\n",
       "⎢                                                                             \n",
       "⎢0    0       0      0       0        0         0        0         0      0  1\n",
       "⎢                                                                             \n",
       "⎢0    0       0      0       0        0         0        0         0      0  0\n",
       "⎢                                                                             \n",
       "⎢0    0       0      0       0        0         0        0         0      0  0\n",
       "⎢                                                                             \n",
       "⎢0    0       0      0       0        0         0        0         0      0  0\n",
       "⎢                                                                             \n",
       "⎣0    0       0      0       0        0         0        0         0      0  0\n",
       "\n",
       "  0  0  0  0⎤\n",
       "            ⎥\n",
       "  0  0  0  0⎥\n",
       "            ⎥\n",
       "  0  0  0  0⎥\n",
       "            ⎥\n",
       "  0  0  0  0⎥\n",
       "            ⎥\n",
       "  0  0  0  0⎥\n",
       "            ⎥\n",
       "  0  0  0  0⎥\n",
       "            ⎥\n",
       "  0  0  0  0⎥\n",
       "            ⎥\n",
       "  0  0  0  0⎥\n",
       "            ⎥\n",
       "  0  0  0  0⎥\n",
       "            ⎥\n",
       "  1  0  0  0⎥\n",
       "            ⎥\n",
       "  0  1  0  0⎥\n",
       "            ⎥\n",
       "  0  0  1  0⎥\n",
       "            ⎥\n",
       "  0  0  0  1⎦"
      ]
     },
     "metadata": {},
     "output_type": "display_data"
    },
    {
     "data": {
      "image/png": "[encoded data removed]",
      "text/latex": [
       "$\\displaystyle \\left[ x, \\  \\frac{2 R_{x} \\left(2 \\min\\left(0, \\operatorname{sign}{\\left(R_{w} \\right)}\\right) + 1\\right) \\operatorname{acos}{\\left(\\min\\left(1.0, \\left|{R_{w}}\\right|\\right) \\right)}}{\\sqrt{1 - \\min\\left(1.0, \\left|{R_{w}}\\right|\\right)^{2}}}, \\  \\frac{2 R_{y} \\left(2 \\min\\left(0, \\operatorname{sign}{\\left(R_{w} \\right)}\\right) + 1\\right) \\operatorname{acos}{\\left(\\min\\left(1.0, \\left|{R_{w}}\\right|\\right) \\right)}}{\\sqrt{1 - \\min\\left(1.0, \\left|{R_{w}}\\right|\\right)^{2}}}, \\  \\frac{2 R_{z} \\left(2 \\min\\left(0, \\operatorname{sign}{\\left(R_{w} \\right)}\\right) + 1\\right) \\operatorname{acos}{\\left(\\min\\left(1.0, \\left|{R_{w}}\\right|\\right) \\right)}}{\\sqrt{1 - \\min\\left(1.0, \\left|{R_{w}}\\right|\\right)^{2}}}, \\  \\frac{2 T.R_{x} \\left(2 \\min\\left(0, \\operatorname{sign}{\\left(T.R_{w} \\right)}\\right) + 1\\right) \\operatorname{acos}{\\left(\\min\\left(1.0, \\left|{T.R_{w}}\\right|\\right) \\right)}}{\\sqrt{1 - \\min\\left(1.0, \\left|{T.R_{w}}\\right|\\right)^{2}}}, \\  \\frac{2 T.R_{y} \\left(2 \\min\\left(0, \\operatorname{sign}{\\left(T.R_{w} \\right)}\\right) + 1\\right) \\operatorname{acos}{\\left(\\min\\left(1.0, \\left|{T.R_{w}}\\right|\\right) \\right)}}{\\sqrt{1 - \\min\\left(1.0, \\left|{T.R_{w}}\\right|\\right)^{2}}}, \\  \\frac{2 T.R_{z} \\left(2 \\min\\left(0, \\operatorname{sign}{\\left(T.R_{w} \\right)}\\right) + 1\\right) \\operatorname{acos}{\\left(\\min\\left(1.0, \\left|{T.R_{w}}\\right|\\right) \\right)}}{\\sqrt{1 - \\min\\left(1.0, \\left|{T.R_{w}}\\right|\\right)^{2}}}, \\  T.t0, \\  T.t1, \\  T.t2, \\  v_{0}, \\  v_{1}, \\  v_{2}\\right]$"
      ],
      "text/plain": [
       "⎡   2⋅Rₓ⋅(2⋅Min(0, sign(R_w)) + 1)⋅acos(Min(1.0, Abs(R_w)))  2⋅R_y⋅(2⋅Min(0, s\n",
       "⎢x, ───────────────────────────────────────────────────────, ─────────────────\n",
       "⎢                    _________________________                                \n",
       "⎢                   ╱                       2                                ╱\n",
       "⎣                 ╲╱  1 - Min(1.0, Abs(R_w))                               ╲╱ \n",
       "\n",
       "ign(R_w)) + 1)⋅acos(Min(1.0, Abs(R_w)))  2⋅R_z⋅(2⋅Min(0, sign(R_w)) + 1)⋅acos(\n",
       "───────────────────────────────────────, ─────────────────────────────────────\n",
       "_________________________                                 ____________________\n",
       "                       2                                 ╱                    \n",
       " 1 - Min(1.0, Abs(R_w))                                ╲╱  1 - Min(1.0, Abs(R_\n",
       "\n",
       "Min(1.0, Abs(R_w)))  2⋅T.Rₓ⋅(2⋅Min(0, sign(T.R_w)) + 1)⋅acos(Min(1.0, Abs(T.R_\n",
       "───────────────────, ─────────────────────────────────────────────────────────\n",
       "_____                                   ___________________________           \n",
       "   2                                   ╱                         2            \n",
       "w))                                  ╲╱  1 - Min(1.0, Abs(T.R_w))             \n",
       "\n",
       "w)))  2⋅T.R_y⋅(2⋅Min(0, sign(T.R_w)) + 1)⋅acos(Min(1.0, Abs(T.R_w)))  2⋅T.R_z⋅\n",
       "────, ──────────────────────────────────────────────────────────────, ────────\n",
       "                         ___________________________                          \n",
       "                        ╱                         2                           \n",
       "                      ╲╱  1 - Min(1.0, Abs(T.R_w))                            \n",
       "\n",
       "(2⋅Min(0, sign(T.R_w)) + 1)⋅acos(Min(1.0, Abs(T.R_w)))                        \n",
       "──────────────────────────────────────────────────────, T.t0, T.t1, T.t2, v₀, \n",
       "           ___________________________                                        \n",
       "          ╱                         2                                         \n",
       "        ╲╱  1 - Min(1.0, Abs(T.R_w))                                          \n",
       "\n",
       "      ⎤\n",
       "v₁, v₂⎥\n",
       "      ⎥\n",
       "      ⎥\n",
       "      ⎦"
      ]
     },
     "metadata": {},
     "output_type": "display_data"
    }
   ],
   "source": [
    "#Importantly, we can compute the jacobian of the storage space of the object with respect to its tangent space:\n",
    "display(new_lieGroup.to_storage())\n",
    "\n",
    "display(new_lieGroup.tangent_D_storage())\n",
    "\n",
    "display(new_lieGroup.to_tangent())\n"
   ]
  },
  {
   "cell_type": "markdown",
   "metadata": {},
   "source": [
    "This means that we can use the elements of the object to compute a residual, and then compute the jacobian of such a residual with respect to the tangent space of our values object."
   ]
  },
  {
   "cell_type": "code",
   "execution_count": 35,
   "metadata": {},
   "outputs": [
    {
     "data": {
      "text/latex": [
       "$\\displaystyle \\left[\\begin{matrix}0\\\\0\\\\0\\\\0\\\\0\\\\0\\end{matrix}\\right]$"
      ],
      "text/plain": [
       "⎡0⎤\n",
       "⎢ ⎥\n",
       "⎢0⎥\n",
       "⎢ ⎥\n",
       "⎢0⎥\n",
       "⎢ ⎥\n",
       "⎢0⎥\n",
       "⎢ ⎥\n",
       "⎢0⎥\n",
       "⎢ ⎥\n",
       "⎣0⎦"
      ]
     },
     "metadata": {},
     "output_type": "display_data"
    },
    {
     "data": {
      "text/latex": [
       "$\\displaystyle \\left[\\begin{matrix}v_{0} \\left(- 2 R_{y}^{2} - 2 R_{z}^{2} + 1\\right) + v_{1} \\left(- 2 R_{w} R_{z} + 2 R_{x} R_{y}\\right) + v_{2} \\cdot \\left(2 R_{w} R_{y} + 2 R_{x} R_{z}\\right)\\\\v_{0} \\cdot \\left(2 R_{w} R_{z} + 2 R_{x} R_{y}\\right) + v_{1} \\left(- 2 R_{x}^{2} - 2 R_{z}^{2} + 1\\right) + v_{2} \\left(- 2 R_{w} R_{x} + 2 R_{y} R_{z}\\right)\\\\v_{0} \\left(- 2 R_{w} R_{y} + 2 R_{x} R_{z}\\right) + v_{1} \\cdot \\left(2 R_{w} R_{x} + 2 R_{y} R_{z}\\right) + v_{2} \\left(- 2 R_{x}^{2} - 2 R_{y}^{2} + 1\\right)\\\\T.t0 + v_{0} \\left(- 2 T.R_{y}^{2} - 2 T.R_{z}^{2} + 1\\right) + v_{1} \\left(- 2 T.R_{w} T.R_{z} + 2 T.R_{x} T.R_{y}\\right) + v_{2} \\cdot \\left(2 T.R_{w} T.R_{y} + 2 T.R_{x} T.R_{z}\\right)\\\\T.t1 + v_{0} \\cdot \\left(2 T.R_{w} T.R_{z} + 2 T.R_{x} T.R_{y}\\right) + v_{1} \\left(- 2 T.R_{x}^{2} - 2 T.R_{z}^{2} + 1\\right) + v_{2} \\left(- 2 T.R_{w} T.R_{x} + 2 T.R_{y} T.R_{z}\\right)\\\\T.t2 + v_{0} \\left(- 2 T.R_{w} T.R_{y} + 2 T.R_{x} T.R_{z}\\right) + v_{1} \\cdot \\left(2 T.R_{w} T.R_{x} + 2 T.R_{y} T.R_{z}\\right) + v_{2} \\left(- 2 T.R_{x}^{2} - 2 T.R_{y}^{2} + 1\\right)\\end{matrix}\\right]$"
      ],
      "text/plain": [
       "⎡                ⎛       2        2    ⎞                                      \n",
       "⎢             v₀⋅⎝- 2⋅R_y  - 2⋅R_z  + 1⎠ + v₁⋅(-2⋅R_w⋅R_z + 2⋅Rₓ⋅R_y) + v₂⋅(2⋅\n",
       "⎢                                                                             \n",
       "⎢                                             ⎛      2        2    ⎞          \n",
       "⎢              v₀⋅(2⋅R_w⋅R_z + 2⋅Rₓ⋅R_y) + v₁⋅⎝- 2⋅Rₓ  - 2⋅R_z  + 1⎠ + v₂⋅(-2⋅\n",
       "⎢                                                                             \n",
       "⎢                                                                          ⎛  \n",
       "⎢              v₀⋅(-2⋅R_w⋅R_y + 2⋅Rₓ⋅R_z) + v₁⋅(2⋅R_w⋅Rₓ + 2⋅R_y⋅R_z) + v₂⋅⎝- \n",
       "⎢                                                                             \n",
       "⎢          ⎛         2          2    ⎞                                        \n",
       "⎢T.t0 + v₀⋅⎝- 2⋅T.R_y  - 2⋅T.R_z  + 1⎠ + v₁⋅(-2⋅T.R_w⋅T.R_z + 2⋅T.Rₓ⋅T.R_y) + \n",
       "⎢                                                                             \n",
       "⎢                                              ⎛        2          2    ⎞     \n",
       "⎢T.t1 + v₀⋅(2⋅T.R_w⋅T.R_z + 2⋅T.Rₓ⋅T.R_y) + v₁⋅⎝- 2⋅T.Rₓ  - 2⋅T.R_z  + 1⎠ + v₂\n",
       "⎢                                                                             \n",
       "⎢                                                                             \n",
       "⎣T.t2 + v₀⋅(-2⋅T.R_w⋅T.R_y + 2⋅T.Rₓ⋅T.R_z) + v₁⋅(2⋅T.R_w⋅T.Rₓ + 2⋅T.R_y⋅T.R_z)\n",
       "\n",
       "                                 ⎤\n",
       "R_w⋅R_y + 2⋅Rₓ⋅R_z)              ⎥\n",
       "                                 ⎥\n",
       "                                 ⎥\n",
       "R_w⋅Rₓ + 2⋅R_y⋅R_z)              ⎥\n",
       "                                 ⎥\n",
       "    2        2    ⎞              ⎥\n",
       "2⋅Rₓ  - 2⋅R_y  + 1⎠              ⎥\n",
       "                                 ⎥\n",
       "                                 ⎥\n",
       "v₂⋅(2⋅T.R_w⋅T.R_y + 2⋅T.Rₓ⋅T.R_z)⎥\n",
       "                                 ⎥\n",
       "                                 ⎥\n",
       "⋅(-2⋅T.R_w⋅T.Rₓ + 2⋅T.R_y⋅T.R_z) ⎥\n",
       "                                 ⎥\n",
       "      ⎛        2          2    ⎞ ⎥\n",
       " + v₂⋅⎝- 2⋅T.Rₓ  - 2⋅T.R_y  + 1⎠ ⎦"
      ]
     },
     "metadata": {},
     "output_type": "display_data"
    }
   ],
   "source": [
    "residual = sf.Matrix(6, 1) #define residual be a 6x1 matrix\n",
    "display(residual)\n",
    "residual[0:3, 0] = new_lieGroup[\"rot3\"] * new_lieGroup[\"sub_lieGroup.vec\"] #add the first 3 rows of the residual matrix to the first 3 rows of the matrix\n",
    "residual[3:6, 0] = new_lieGroup[\"sub_lieGroup.pose3\"] * new_lieGroup[\"sub_lieGroup.vec\"] #add the last 3 rows of the residual matrix to the last 3 rows of the matrix\n",
    "display(residual)"
   ]
  },
  {
   "cell_type": "code",
   "execution_count": 38,
   "metadata": {},
   "outputs": [
    {
     "data": {
      "image/png": "[encoded data removed]",
      "text/latex": [
       "$\\displaystyle \\left[ x, \\  \\frac{2 R_{x} \\left(2 \\min\\left(0, \\operatorname{sign}{\\left(R_{w} \\right)}\\right) + 1\\right) \\operatorname{acos}{\\left(\\min\\left(1.0, \\left|{R_{w}}\\right|\\right) \\right)}}{\\sqrt{1 - \\min\\left(1.0, \\left|{R_{w}}\\right|\\right)^{2}}}, \\  \\frac{2 R_{y} \\left(2 \\min\\left(0, \\operatorname{sign}{\\left(R_{w} \\right)}\\right) + 1\\right) \\operatorname{acos}{\\left(\\min\\left(1.0, \\left|{R_{w}}\\right|\\right) \\right)}}{\\sqrt{1 - \\min\\left(1.0, \\left|{R_{w}}\\right|\\right)^{2}}}, \\  \\frac{2 R_{z} \\left(2 \\min\\left(0, \\operatorname{sign}{\\left(R_{w} \\right)}\\right) + 1\\right) \\operatorname{acos}{\\left(\\min\\left(1.0, \\left|{R_{w}}\\right|\\right) \\right)}}{\\sqrt{1 - \\min\\left(1.0, \\left|{R_{w}}\\right|\\right)^{2}}}, \\  \\frac{2 T.R_{x} \\left(2 \\min\\left(0, \\operatorname{sign}{\\left(T.R_{w} \\right)}\\right) + 1\\right) \\operatorname{acos}{\\left(\\min\\left(1.0, \\left|{T.R_{w}}\\right|\\right) \\right)}}{\\sqrt{1 - \\min\\left(1.0, \\left|{T.R_{w}}\\right|\\right)^{2}}}, \\  \\frac{2 T.R_{y} \\left(2 \\min\\left(0, \\operatorname{sign}{\\left(T.R_{w} \\right)}\\right) + 1\\right) \\operatorname{acos}{\\left(\\min\\left(1.0, \\left|{T.R_{w}}\\right|\\right) \\right)}}{\\sqrt{1 - \\min\\left(1.0, \\left|{T.R_{w}}\\right|\\right)^{2}}}, \\  \\frac{2 T.R_{z} \\left(2 \\min\\left(0, \\operatorname{sign}{\\left(T.R_{w} \\right)}\\right) + 1\\right) \\operatorname{acos}{\\left(\\min\\left(1.0, \\left|{T.R_{w}}\\right|\\right) \\right)}}{\\sqrt{1 - \\min\\left(1.0, \\left|{T.R_{w}}\\right|\\right)^{2}}}, \\  T.t0, \\  T.t1, \\  T.t2, \\  v_{0}, \\  v_{1}, \\  v_{2}\\right]$"
      ],
      "text/plain": [
       "⎡   2⋅Rₓ⋅(2⋅Min(0, sign(R_w)) + 1)⋅acos(Min(1.0, Abs(R_w)))  2⋅R_y⋅(2⋅Min(0, s\n",
       "⎢x, ───────────────────────────────────────────────────────, ─────────────────\n",
       "⎢                    _________________________                                \n",
       "⎢                   ╱                       2                                ╱\n",
       "⎣                 ╲╱  1 - Min(1.0, Abs(R_w))                               ╲╱ \n",
       "\n",
       "ign(R_w)) + 1)⋅acos(Min(1.0, Abs(R_w)))  2⋅R_z⋅(2⋅Min(0, sign(R_w)) + 1)⋅acos(\n",
       "───────────────────────────────────────, ─────────────────────────────────────\n",
       "_________________________                                 ____________________\n",
       "                       2                                 ╱                    \n",
       " 1 - Min(1.0, Abs(R_w))                                ╲╱  1 - Min(1.0, Abs(R_\n",
       "\n",
       "Min(1.0, Abs(R_w)))  2⋅T.Rₓ⋅(2⋅Min(0, sign(T.R_w)) + 1)⋅acos(Min(1.0, Abs(T.R_\n",
       "───────────────────, ─────────────────────────────────────────────────────────\n",
       "_____                                   ___________________________           \n",
       "   2                                   ╱                         2            \n",
       "w))                                  ╲╱  1 - Min(1.0, Abs(T.R_w))             \n",
       "\n",
       "w)))  2⋅T.R_y⋅(2⋅Min(0, sign(T.R_w)) + 1)⋅acos(Min(1.0, Abs(T.R_w)))  2⋅T.R_z⋅\n",
       "────, ──────────────────────────────────────────────────────────────, ────────\n",
       "                         ___________________________                          \n",
       "                        ╱                         2                           \n",
       "                      ╲╱  1 - Min(1.0, Abs(T.R_w))                            \n",
       "\n",
       "(2⋅Min(0, sign(T.R_w)) + 1)⋅acos(Min(1.0, Abs(T.R_w)))                        \n",
       "──────────────────────────────────────────────────────, T.t0, T.t1, T.t2, v₀, \n",
       "           ___________________________                                        \n",
       "          ╱                         2                                         \n",
       "        ╲╱  1 - Min(1.0, Abs(T.R_w))                                          \n",
       "\n",
       "      ⎤\n",
       "v₁, v₂⎥\n",
       "      ⎥\n",
       "      ⎥\n",
       "      ⎦"
      ]
     },
     "metadata": {},
     "output_type": "display_data"
    },
    {
     "data": {
      "image/png": "[encoded data removed]",
      "text/latex": [
       "$\\displaystyle \\left( 6, \\  13\\right)$"
      ],
      "text/plain": [
       "(6, 13)"
      ]
     },
     "metadata": {},
     "output_type": "display_data"
    },
    {
     "data": {
      "text/latex": [
       "$\\displaystyle \\left[\\begin{array}{ccccccccccccc}0 & v_{1} \\cdot \\left(2 R_{w} R_{y} + 2 R_{x} R_{z}\\right) + v_{2} \\cdot \\left(2 R_{w} R_{z} - 2 R_{x} R_{y}\\right) & v_{0} \\left(- 2 R_{w} R_{y} - 2 R_{x} R_{z}\\right) + v_{2} \\left(R_{w}^{2} + R_{x}^{2} - R_{y}^{2} - R_{z}^{2}\\right) & v_{0} \\left(- 2 R_{w} R_{z} + 2 R_{x} R_{y}\\right) + v_{1} \\left(- R_{w}^{2} - R_{x}^{2} + R_{y}^{2} + R_{z}^{2}\\right) & 0 & 0 & 0 & 0 & 0 & 0 & - 2 R_{y}^{2} - 2 R_{z}^{2} + 1 & - 2 R_{w} R_{z} + 2 R_{x} R_{y} & 2 R_{w} R_{y} + 2 R_{x} R_{z}\\\\0 & v_{1} \\left(- 2 R_{w} R_{x} + 2 R_{y} R_{z}\\right) + v_{2} \\left(- R_{w}^{2} + R_{x}^{2} - R_{y}^{2} + R_{z}^{2}\\right) & v_{0} \\cdot \\left(2 R_{w} R_{x} - 2 R_{y} R_{z}\\right) + v_{2} \\cdot \\left(2 R_{w} R_{z} + 2 R_{x} R_{y}\\right) & v_{0} \\left(R_{w}^{2} - R_{x}^{2} + R_{y}^{2} - R_{z}^{2}\\right) + v_{1} \\left(- 2 R_{w} R_{z} - 2 R_{x} R_{y}\\right) & 0 & 0 & 0 & 0 & 0 & 0 & 2 R_{w} R_{z} + 2 R_{x} R_{y} & - 2 R_{x}^{2} - 2 R_{z}^{2} + 1 & - 2 R_{w} R_{x} + 2 R_{y} R_{z}\\\\0 & v_{1} \\left(R_{w}^{2} - R_{x}^{2} - R_{y}^{2} + R_{z}^{2}\\right) + v_{2} \\left(- 2 R_{w} R_{x} - 2 R_{y} R_{z}\\right) & v_{0} \\left(- R_{w}^{2} + R_{x}^{2} + R_{y}^{2} - R_{z}^{2}\\right) + v_{2} \\left(- 2 R_{w} R_{y} + 2 R_{x} R_{z}\\right) & v_{0} \\cdot \\left(2 R_{w} R_{x} + 2 R_{y} R_{z}\\right) + v_{1} \\cdot \\left(2 R_{w} R_{y} - 2 R_{x} R_{z}\\right) & 0 & 0 & 0 & 0 & 0 & 0 & - 2 R_{w} R_{y} + 2 R_{x} R_{z} & 2 R_{w} R_{x} + 2 R_{y} R_{z} & - 2 R_{x}^{2} - 2 R_{y}^{2} + 1\\\\0 & 0 & 0 & 0 & v_{1} \\cdot \\left(2 T.R_{w} T.R_{y} + 2 T.R_{x} T.R_{z}\\right) + v_{2} \\cdot \\left(2 T.R_{w} T.R_{z} - 2 T.R_{x} T.R_{y}\\right) & v_{0} \\left(- 2 T.R_{w} T.R_{y} - 2 T.R_{x} T.R_{z}\\right) + v_{2} \\left(T.R_{w}^{2} + T.R_{x}^{2} - T.R_{y}^{2} - T.R_{z}^{2}\\right) & v_{0} \\left(- 2 T.R_{w} T.R_{z} + 2 T.R_{x} T.R_{y}\\right) + v_{1} \\left(- T.R_{w}^{2} - T.R_{x}^{2} + T.R_{y}^{2} + T.R_{z}^{2}\\right) & 1 & 0 & 0 & - 2 T.R_{y}^{2} - 2 T.R_{z}^{2} + 1 & - 2 T.R_{w} T.R_{z} + 2 T.R_{x} T.R_{y} & 2 T.R_{w} T.R_{y} + 2 T.R_{x} T.R_{z}\\\\0 & 0 & 0 & 0 & v_{1} \\left(- 2 T.R_{w} T.R_{x} + 2 T.R_{y} T.R_{z}\\right) + v_{2} \\left(- T.R_{w}^{2} + T.R_{x}^{2} - T.R_{y}^{2} + T.R_{z}^{2}\\right) & v_{0} \\cdot \\left(2 T.R_{w} T.R_{x} - 2 T.R_{y} T.R_{z}\\right) + v_{2} \\cdot \\left(2 T.R_{w} T.R_{z} + 2 T.R_{x} T.R_{y}\\right) & v_{0} \\left(T.R_{w}^{2} - T.R_{x}^{2} + T.R_{y}^{2} - T.R_{z}^{2}\\right) + v_{1} \\left(- 2 T.R_{w} T.R_{z} - 2 T.R_{x} T.R_{y}\\right) & 0 & 1 & 0 & 2 T.R_{w} T.R_{z} + 2 T.R_{x} T.R_{y} & - 2 T.R_{x}^{2} - 2 T.R_{z}^{2} + 1 & - 2 T.R_{w} T.R_{x} + 2 T.R_{y} T.R_{z}\\\\0 & 0 & 0 & 0 & v_{1} \\left(T.R_{w}^{2} - T.R_{x}^{2} - T.R_{y}^{2} + T.R_{z}^{2}\\right) + v_{2} \\left(- 2 T.R_{w} T.R_{x} - 2 T.R_{y} T.R_{z}\\right) & v_{0} \\left(- T.R_{w}^{2} + T.R_{x}^{2} + T.R_{y}^{2} - T.R_{z}^{2}\\right) + v_{2} \\left(- 2 T.R_{w} T.R_{y} + 2 T.R_{x} T.R_{z}\\right) & v_{0} \\cdot \\left(2 T.R_{w} T.R_{x} + 2 T.R_{y} T.R_{z}\\right) + v_{1} \\cdot \\left(2 T.R_{w} T.R_{y} - 2 T.R_{x} T.R_{z}\\right) & 0 & 0 & 1 & - 2 T.R_{w} T.R_{y} + 2 T.R_{x} T.R_{z} & 2 T.R_{w} T.R_{x} + 2 T.R_{y} T.R_{z} & - 2 T.R_{x}^{2} - 2 T.R_{y}^{2} + 1\\end{array}\\right]$"
      ],
      "text/plain": [
       "⎡                                                                             \n",
       "⎢0     v₁⋅(2⋅R_w⋅R_y + 2⋅Rₓ⋅R_z) + v₂⋅(2⋅R_w⋅R_z - 2⋅Rₓ⋅R_y)       v₀⋅(-2⋅R_w⋅\n",
       "⎢                                                                             \n",
       "⎢                                   ⎛     2     2      2      2⎞              \n",
       "⎢0  v₁⋅(-2⋅R_w⋅Rₓ + 2⋅R_y⋅R_z) + v₂⋅⎝- R_w  + Rₓ  - R_y  + R_z ⎠     v₀⋅(2⋅R_w\n",
       "⎢                                                                             \n",
       "⎢       ⎛   2     2      2      2⎞                                   ⎛     2  \n",
       "⎢0   v₁⋅⎝R_w  - Rₓ  - R_y  + R_z ⎠ + v₂⋅(-2⋅R_w⋅Rₓ - 2⋅R_y⋅R_z)   v₀⋅⎝- R_w  +\n",
       "⎢                                                                             \n",
       "⎢                                                                             \n",
       "⎢0                               0                                            \n",
       "⎢                                                                             \n",
       "⎢                                                                             \n",
       "⎢0                               0                                            \n",
       "⎢                                                                             \n",
       "⎢                                                                             \n",
       "⎣0                               0                                            \n",
       "\n",
       "                     ⎛   2     2      2      2⎞                               \n",
       "R_y - 2⋅Rₓ⋅R_z) + v₂⋅⎝R_w  + Rₓ  - R_y  - R_z ⎠   v₀⋅(-2⋅R_w⋅R_z + 2⋅Rₓ⋅R_y) +\n",
       "                                                                              \n",
       "                                                      ⎛   2     2      2      \n",
       "⋅Rₓ - 2⋅R_y⋅R_z) + v₂⋅(2⋅R_w⋅R_z + 2⋅Rₓ⋅R_y)       v₀⋅⎝R_w  - Rₓ  + R_y  - R_z\n",
       "                                                                              \n",
       "   2      2      2⎞                                                           \n",
       " Rₓ  + R_y  - R_z ⎠ + v₂⋅(-2⋅R_w⋅R_y + 2⋅Rₓ⋅R_z)     v₀⋅(2⋅R_w⋅Rₓ + 2⋅R_y⋅R_z)\n",
       "                                                                              \n",
       "                                                                              \n",
       "                 0                                                            \n",
       "                                                                              \n",
       "                                                                              \n",
       "                 0                                                            \n",
       "                                                                              \n",
       "                                                                              \n",
       "                 0                                                            \n",
       "\n",
       "    ⎛     2     2      2      2⎞                                              \n",
       " v₁⋅⎝- R_w  - Rₓ  + R_y  + R_z ⎠                                       0      \n",
       "                                                                              \n",
       "2⎞                                                                            \n",
       " ⎠ + v₁⋅(-2⋅R_w⋅R_z - 2⋅Rₓ⋅R_y)                                        0      \n",
       "                                                                              \n",
       "                                                                              \n",
       " + v₁⋅(2⋅R_w⋅R_y - 2⋅Rₓ⋅R_z)                                           0      \n",
       "                                                                              \n",
       "                                                                              \n",
       " 0                                   v₁⋅(2⋅T.R_w⋅T.R_y + 2⋅T.Rₓ⋅T.R_z) + v₂⋅(2\n",
       "                                                                              \n",
       "                                                                          ⎛   \n",
       " 0                                v₁⋅(-2⋅T.R_w⋅T.Rₓ + 2⋅T.R_y⋅T.R_z) + v₂⋅⎝- T\n",
       "                                                                              \n",
       "                                      ⎛     2       2        2        2⎞      \n",
       " 0                                 v₁⋅⎝T.R_w  - T.Rₓ  - T.R_y  + T.R_z ⎠ + v₂⋅\n",
       "\n",
       "                                                                              \n",
       "                                                                       0      \n",
       "                                                                              \n",
       "                                                                              \n",
       "                                                                       0      \n",
       "                                                                              \n",
       "                                                                              \n",
       "                                                                       0      \n",
       "                                                                              \n",
       "                                                                           ⎛  \n",
       "⋅T.R_w⋅T.R_z - 2⋅T.Rₓ⋅T.R_y)       v₀⋅(-2⋅T.R_w⋅T.R_y - 2⋅T.Rₓ⋅T.R_z) + v₂⋅⎝T.\n",
       "                                                                              \n",
       "    2       2        2        2⎞                                              \n",
       ".R_w  + T.Rₓ  - T.R_y  + T.R_z ⎠     v₀⋅(2⋅T.R_w⋅T.Rₓ - 2⋅T.R_y⋅T.R_z) + v₂⋅(2\n",
       "                                                                              \n",
       "                                     ⎛       2       2        2        2⎞     \n",
       "(-2⋅T.R_w⋅T.Rₓ - 2⋅T.R_y⋅T.R_z)   v₀⋅⎝- T.R_w  + T.Rₓ  + T.R_y  - T.R_z ⎠ + v₂\n",
       "\n",
       "                                                                              \n",
       "                                                                       0      \n",
       "                                                                              \n",
       "                                                                              \n",
       "                                                                       0      \n",
       "                                                                              \n",
       "                                                                              \n",
       "                                                                       0      \n",
       "                                                                              \n",
       "   2       2        2        2⎞                                           ⎛   \n",
       "R_w  + T.Rₓ  - T.R_y  - T.R_z ⎠   v₀⋅(-2⋅T.R_w⋅T.R_z + 2⋅T.Rₓ⋅T.R_y) + v₁⋅⎝- T\n",
       "                                                                              \n",
       "                                      ⎛     2       2        2        2⎞      \n",
       "⋅T.R_w⋅T.R_z + 2⋅T.Rₓ⋅T.R_y)       v₀⋅⎝T.R_w  - T.Rₓ  + T.R_y  - T.R_z ⎠ + v₁⋅\n",
       "                                                                              \n",
       "                                                                              \n",
       "⋅(-2⋅T.R_w⋅T.R_y + 2⋅T.Rₓ⋅T.R_z)     v₀⋅(2⋅T.R_w⋅T.Rₓ + 2⋅T.R_y⋅T.R_z) + v₁⋅(2\n",
       "\n",
       "                                                      2        2              \n",
       "                                  0  0  0      - 2⋅R_y  - 2⋅R_z  + 1          \n",
       "                                                                              \n",
       "                                                                              \n",
       "                                  0  0  0      2⋅R_w⋅R_z + 2⋅Rₓ⋅R_y           \n",
       "                                                                              \n",
       "                                                                              \n",
       "                                  0  0  0      -2⋅R_w⋅R_y + 2⋅Rₓ⋅R_z          \n",
       "                                                                              \n",
       "    2       2        2        2⎞                      2          2            \n",
       ".R_w  - T.Rₓ  + T.R_y  + T.R_z ⎠  1  0  0    - 2⋅T.R_y  - 2⋅T.R_z  + 1    -2⋅T\n",
       "                                                                              \n",
       "                                                                              \n",
       "(-2⋅T.R_w⋅T.R_z - 2⋅T.Rₓ⋅T.R_y)   0  1  0  2⋅T.R_w⋅T.R_z + 2⋅T.Rₓ⋅T.R_y     - \n",
       "                                                                              \n",
       "                                                                              \n",
       "⋅T.R_w⋅T.R_y - 2⋅T.Rₓ⋅T.R_z)      0  0  1  -2⋅T.R_w⋅T.R_y + 2⋅T.Rₓ⋅T.R_z  2⋅T.\n",
       "\n",
       "                                                        ⎤\n",
       "-2⋅R_w⋅R_z + 2⋅Rₓ⋅R_y          2⋅R_w⋅R_y + 2⋅Rₓ⋅R_z     ⎥\n",
       "                                                        ⎥\n",
       "      2        2                                        ⎥\n",
       "- 2⋅Rₓ  - 2⋅R_z  + 1           -2⋅R_w⋅Rₓ + 2⋅R_y⋅R_z    ⎥\n",
       "                                                        ⎥\n",
       "                                     2        2         ⎥\n",
       "2⋅R_w⋅Rₓ + 2⋅R_y⋅R_z           - 2⋅Rₓ  - 2⋅R_y  + 1     ⎥\n",
       "                                                        ⎥\n",
       "                                                        ⎥\n",
       ".R_w⋅T.R_z + 2⋅T.Rₓ⋅T.R_y  2⋅T.R_w⋅T.R_y + 2⋅T.Rₓ⋅T.R_z ⎥\n",
       "                                                        ⎥\n",
       "      2          2                                      ⎥\n",
       "2⋅T.Rₓ  - 2⋅T.R_z  + 1     -2⋅T.R_w⋅T.Rₓ + 2⋅T.R_y⋅T.R_z⎥\n",
       "                                                        ⎥\n",
       "                                     2          2       ⎥\n",
       "R_w⋅T.Rₓ + 2⋅T.R_y⋅T.R_z     - 2⋅T.Rₓ  - 2⋅T.R_y  + 1   ⎦"
      ]
     },
     "metadata": {},
     "output_type": "display_data"
    }
   ],
   "source": [
    "residual_D_tangent = residual.jacobian(new_lieGroup)\n",
    "\n",
    "display(new_lieGroup.to_tangent())\n",
    "display(residual_D_tangent.shape)\n",
    "display(residual_D_tangent)"
   ]
  }
 ],
 "metadata": {
  "kernelspec": {
   "display_name": "Python 3.9.12 ('robot_ml')",
   "language": "python",
   "name": "python3"
  },
  "language_info": {
   "codemirror_mode": {
    "name": "ipython",
    "version": 3
   },
   "file_extension": ".py",
   "mimetype": "text/x-python",
   "name": "python",
   "nbconvert_exporter": "python",
   "pygments_lexer": "ipython3",
   "version": "3.9.12"
  },
  "orig_nbformat": 4,
  "vscode": {
   "interpreter": {
    "hash": "5c11ad2b3e868973e9c5433eb1f36de7a5a08246a349f67b6dc65c44af7ff32c"
   }
  }
 },
 "nbformat": 4,
 "nbformat_minor": 2
}
