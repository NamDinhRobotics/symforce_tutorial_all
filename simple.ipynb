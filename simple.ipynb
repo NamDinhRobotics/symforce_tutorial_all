{
 "cells": [
  {
   "cell_type": "code",
   "execution_count": 1,
   "metadata": {},
   "outputs": [],
   "source": [
    "import symforce.symbolic as sf"
   ]
  },
  {
   "cell_type": "code",
   "execution_count": 10,
   "metadata": {},
   "outputs": [
    {
     "name": "stdout",
     "output_type": "stream",
     "text": [
      "[0.877582561890373, -0.479425538604203, 0]\n",
      "[0.479425538604203, 0.877582561890373, 0]\n",
      "[0, 0, 1]\n",
      "\n",
      "[0.877582561890373, -0.479425538604203, 0, 1]\n",
      "[0.479425538604203, 0.877582561890373, 0, 2]\n",
      "[0, 0, 1, 1]\n",
      "[0, 0, 0, 1]\n",
      "\n"
     ]
    }
   ],
   "source": [
    "R1=sf.Rot3.from_yaw_pitch_roll(0.5, 0,0)\n",
    "\n",
    "t1 = sf.Vector3(1, 2, 1)\n",
    "P1 = sf.Pose3(R1, t1)\n",
    "\n",
    "print(R1.to_rotation_matrix())\n",
    "print(P1.to_homogenous_matrix())"
   ]
  },
  {
   "cell_type": "code",
   "execution_count": 11,
   "metadata": {},
   "outputs": [
    {
     "name": "stdout",
     "output_type": "stream",
     "text": [
      "[0.54030230586814, -0.841470984807897, 0, 1]\n",
      "[0.841470984807897, 0.54030230586814, 0, 2]\n",
      "[0, 0, 1, 1]\n",
      "[0, 0, 0, 1]\n",
      "\n"
     ]
    }
   ],
   "source": [
    "#change R1 to SE3\n",
    "t2 = sf.Vector3(0, 0, 0)\n",
    "Tr = sf.Pose3_SE3(R1, t2)\n",
    "#compose P1 with Tr\n",
    "P2 = sf.Pose3_SE3.compose(P1, Tr)\n",
    "print(P2.to_homogenous_matrix())"
   ]
  }
 ],
 "metadata": {
  "kernelspec": {
   "display_name": "Python 3.9.12 ('robot_ml')",
   "language": "python",
   "name": "python3"
  },
  "language_info": {
   "codemirror_mode": {
    "name": "ipython",
    "version": 3
   },
   "file_extension": ".py",
   "mimetype": "text/x-python",
   "name": "python",
   "nbconvert_exporter": "python",
   "pygments_lexer": "ipython3",
   "version": "3.9.12"
  },
  "orig_nbformat": 4,
  "vscode": {
   "interpreter": {
    "hash": "5c11ad2b3e868973e9c5433eb1f36de7a5a08246a349f67b6dc65c44af7ff32c"
   }
  }
 },
 "nbformat": 4,
 "nbformat_minor": 2
}
