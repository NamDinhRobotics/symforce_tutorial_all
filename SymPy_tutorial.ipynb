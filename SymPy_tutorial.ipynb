SymPy Tutorial
SymForce is built on the SymPy API for symbolic algebra. If you’re not familiar with SymPy or symbolic computation, go through their tutorial. Some basic usage is shown here.

