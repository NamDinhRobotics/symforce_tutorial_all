{
 "cells": [
  {
   "cell_type": "markdown",
   "metadata": {},
   "source": [
    "SymPy Tutorial\n",
    "https://symforce.org/tutorials/sympy_tutorial.html"
   ]
  },
  {
   "cell_type": "markdown",
   "metadata": {},
   "source": [
    "SymForce is built on the SymPy API for symbolic algebra.\n",
    "If you’re not familiar with SymPy or symbolic computation, go through their tutorial. Some basic usage is shown here."
   ]
  },
  {
   "cell_type": "code",
   "execution_count": 1,
   "metadata": {},
   "outputs": [],
   "source": [
    "# Configuration (optional)\n",
    "import symforce\n",
    "\n",
    "symforce.set_symbolic_api(\"sympy\")\n",
    "symforce.set_log_level(\"warning\")\n",
    "from symforce.notebook_util import display, print_expression_tree"
   ]
  },
  {
   "cell_type": "markdown",
   "metadata": {},
   "source": [
    "Always import the SymPy API through SymForce, because symforce can switch out the symbolic implementation of the API and adds a few minor but important augmentations. Let’s define some algebraic symbols:"
   ]
  },
  {
   "cell_type": "code",
   "execution_count": 2,
   "metadata": {},
   "outputs": [],
   "source": [
    "import symforce.symbolic as sf\n",
    "\n",
    "x = sf.Symbol(\"x\")\n",
    "y = sf.Symbol(\"y\")"
   ]
  },
  {
   "cell_type": "code",
   "execution_count": 3,
   "metadata": {},
   "outputs": [
    {
     "data": {
      "image/png": "[encoded data removed]",
      "text/latex": [
       "$\\displaystyle x^{2} + \\frac{\\sin{\\left(y \\right)}}{x^{2}}$"
      ],
      "text/plain": [
       " 2   sin(y)\n",
       "x  + ──────\n",
       "        2  \n",
       "       x   "
      ]
     },
     "metadata": {},
     "output_type": "display_data"
    }
   ],
   "source": [
    "expr = x ** 2 + sf.sin(y) / x ** 2\n",
    "display(expr)"
   ]
  },
  {
   "cell_type": "code",
   "execution_count": 4,
   "metadata": {},
   "outputs": [
    {
     "name": "stdout",
     "output_type": "stream",
     "text": [
      "Add: x**2 + sin(y)/x**2\n",
      "+-Pow: x**2\n",
      "| +-Symbol: x\n",
      "| +-Integer: 2\n",
      "+-Mul: sin(y)/x**2\n",
      "  +-Pow: x**(-2)\n",
      "  | +-Symbol: x\n",
      "  | +-Integer: -2\n",
      "  +-sin: sin(y)\n",
      "    +-Symbol: y\n"
     ]
    }
   ],
   "source": [
    "#This expression object is a tree of operations and arguments:\n",
    "print_expression_tree(expr)"
   ]
  },
  {
   "cell_type": "code",
   "execution_count": 5,
   "metadata": {},
   "outputs": [
    {
     "data": {
      "image/png": "[encoded data removed]",
      "text/latex": [
       "$\\displaystyle 1.71042940438101$"
      ],
      "text/plain": [
       "1.71042940438101"
      ]
     },
     "metadata": {},
     "output_type": "display_data"
    }
   ],
   "source": [
    "#We can evaluate this numerically by plugging in values:\n",
    "display(expr.subs({x: 1.2, y: 0.4}))"
   ]
  },
  {
   "cell_type": "code",
   "execution_count": 6,
   "metadata": {},
   "outputs": [
    {
     "data": {
      "image/png": "[encoded data removed]",
      "text/latex": [
       "$\\displaystyle \\frac{\\cos{\\left(y \\right)}}{x^{2}}$"
      ],
      "text/plain": [
       "cos(y)\n",
       "──────\n",
       "   2  \n",
       "  x   "
      ]
     },
     "metadata": {},
     "output_type": "display_data"
    }
   ],
   "source": [
    "#We can perform symbolic manipulation like differentiation, integration, simplifiation, etc..\n",
    "\n",
    "display(expr.diff(y))"
   ]
  },
  {
   "cell_type": "code",
   "execution_count": 7,
   "metadata": {},
   "outputs": [
    {
     "data": {
      "image/png": "[encoded data removed]",
      "text/latex": [
       "$\\displaystyle \\frac{y}{x^{2}} - \\frac{y^{3}}{6 x^{2}} + \\frac{y^{5}}{120 x^{2}} + x^{2} + O\\left(y^{6}\\right)$"
      ],
      "text/plain": [
       "       3       5               \n",
       "y     y       y       2    ⎛ 6⎞\n",
       "── - ──── + ────── + x  + O⎝y ⎠\n",
       " 2      2        2             \n",
       "x    6⋅x    120⋅x              "
      ]
     },
     "metadata": {},
     "output_type": "display_data"
    }
   ],
   "source": [
    "display(sf.series(expr, y))"
   ]
  },
  {
   "cell_type": "code",
   "execution_count": 10,
   "metadata": {},
   "outputs": [
    {
     "data": {
      "image/png": "[encoded data removed]",
      "text/latex": [
       "$\\displaystyle \\frac{x^{3}}{3} - \\frac{\\sin{\\left(y \\right)}}{x}$"
      ],
      "text/plain": [
       " 3         \n",
       "x    sin(y)\n",
       "── - ──────\n",
       "3      x   "
      ]
     },
     "metadata": {},
     "output_type": "display_data"
    },
    {
     "data": {
      "image/png": "[encoded data removed]",
      "text/latex": [
       "$\\displaystyle x^{2} y - \\frac{\\cos{\\left(y \\right)}}{x^{2}}$"
      ],
      "text/plain": [
       " 2     cos(y)\n",
       "x ⋅y - ──────\n",
       "          2  \n",
       "         x   "
      ]
     },
     "metadata": {},
     "output_type": "display_data"
    }
   ],
   "source": [
    "#intergration\n",
    "display(expr.integrate(x))\n",
    "display(expr.integrate(y))"
   ]
  },
  {
   "cell_type": "code",
   "execution_count": 15,
   "metadata": {},
   "outputs": [
    {
     "data": {
      "image/png": "[encoded data removed]",
      "text/latex": [
       "$\\displaystyle 1$"
      ],
      "text/plain": [
       "1"
      ]
     },
     "metadata": {},
     "output_type": "display_data"
    }
   ],
   "source": [
    "#simplification\n",
    "fc1 = sf.sin(x)*sf.sin(x) + sf.cos(x)*sf.cos(x)\n",
    "display(fc1.simplify()) # it can simplify the sin^2+cos^2 to 1"
   ]
  },
  {
   "cell_type": "code",
   "execution_count": 23,
   "metadata": {},
   "outputs": [
    {
     "data": {
      "image/png": "[encoded data removed]",
      "text/latex": [
       "$\\displaystyle \\left[ - \\sqrt[4]{- \\sin{\\left(y \\right)}}, \\  \\sqrt[4]{- \\sin{\\left(y \\right)}}\\right]$"
      ],
      "text/plain": [
       "⎡ 4 _________  4 _________⎤\n",
       "⎣-╲╱ -sin(y) , ╲╱ -sin(y) ⎦"
      ]
     },
     "metadata": {},
     "output_type": "display_data"
    }
   ],
   "source": [
    "#solve\n",
    "display(sf.solve(expr, x))"
   ]
  },
  {
   "cell_type": "code",
   "execution_count": 17,
   "metadata": {},
   "outputs": [
    {
     "data": {
      "text/latex": [
       "$\\displaystyle \\left[\\begin{matrix}x & y\\\\y & x\\end{matrix}\\right]$"
      ],
      "text/plain": [
       "⎡x  y⎤\n",
       "⎢    ⎥\n",
       "⎣y  x⎦"
      ]
     },
     "metadata": {},
     "output_type": "display_data"
    }
   ],
   "source": [
    "#maxtrix A\n",
    "A = sf.Matrix22([x, y, y, x])\n",
    "display(A)"
   ]
  },
  {
   "cell_type": "code",
   "execution_count": 25,
   "metadata": {},
   "outputs": [
    {
     "data": {
      "text/latex": [
       "$\\displaystyle \\left[\\begin{matrix}\\frac{1 + \\frac{y^{2}}{x \\left(x - \\frac{y^{2}}{x}\\right)}}{x} & - \\frac{y}{x \\left(x - \\frac{y^{2}}{x}\\right)}\\\\- \\frac{y}{x \\left(x - \\frac{y^{2}}{x}\\right)} & \\frac{1}{x - \\frac{y^{2}}{x}}\\end{matrix}\\right]$"
      ],
      "text/plain": [
       "⎡         2                ⎤\n",
       "⎢        y                 ⎥\n",
       "⎢1 + ──────────            ⎥\n",
       "⎢      ⎛     2⎞            ⎥\n",
       "⎢      ⎜    y ⎟            ⎥\n",
       "⎢    x⋅⎜x - ──⎟            ⎥\n",
       "⎢      ⎝    x ⎠     -y     ⎥\n",
       "⎢──────────────  ──────────⎥\n",
       "⎢      x           ⎛     2⎞⎥\n",
       "⎢                  ⎜    y ⎟⎥\n",
       "⎢                x⋅⎜x - ──⎟⎥\n",
       "⎢                  ⎝    x ⎠⎥\n",
       "⎢                          ⎥\n",
       "⎢     -y             1     ⎥\n",
       "⎢  ──────────      ──────  ⎥\n",
       "⎢    ⎛     2⎞           2  ⎥\n",
       "⎢    ⎜    y ⎟          y   ⎥\n",
       "⎢  x⋅⎜x - ──⎟      x - ──  ⎥\n",
       "⎣    ⎝    x ⎠          x   ⎦"
      ]
     },
     "metadata": {},
     "output_type": "display_data"
    },
    {
     "data": {
      "text/latex": [
       "$\\displaystyle \\left[\\begin{matrix}x & y\\\\y & x\\end{matrix}\\right]$"
      ],
      "text/plain": [
       "⎡x  y⎤\n",
       "⎢    ⎥\n",
       "⎣y  x⎦"
      ]
     },
     "metadata": {},
     "output_type": "display_data"
    }
   ],
   "source": [
    "#matrix inverse\n",
    "display(A.inv())\n",
    "#matrix determinant\n",
    "display(A.transpose())"
   ]
  },
  {
   "cell_type": "markdown",
   "metadata": {},
   "source": [
    "Solve the general quadratic equation ax^2+bx+c=0"
   ]
  },
  {
   "cell_type": "code",
   "execution_count": 30,
   "metadata": {},
   "outputs": [
    {
     "data": {
      "image/png": "[encoded data removed]",
      "text/latex": [
       "$\\displaystyle a x^{2} + b x + c$"
      ],
      "text/plain": [
       "   2          \n",
       "a⋅x  + b⋅x + c"
      ]
     },
     "metadata": {},
     "output_type": "display_data"
    },
    {
     "data": {
      "image/png": "[encoded data removed]",
      "text/latex": [
       "$\\displaystyle \\left[ \\frac{- b - \\sqrt{- 4 a c + b^{2}}}{2 a}, \\  \\frac{- b + \\sqrt{- 4 a c + b^{2}}}{2 a}\\right]$"
      ],
      "text/plain": [
       "⎡        _____________          _____________⎤\n",
       "⎢       ╱           2          ╱           2 ⎥\n",
       "⎢-b - ╲╱  -4⋅a⋅c + b    -b + ╲╱  -4⋅a⋅c + b  ⎥\n",
       "⎢─────────────────────, ─────────────────────⎥\n",
       "⎣         2⋅a                    2⋅a         ⎦"
      ]
     },
     "metadata": {},
     "output_type": "display_data"
    }
   ],
   "source": [
    "a = sf.Symbol(\"a\")\n",
    "b = sf.Symbol(\"b\")\n",
    "c = sf.Symbol(\"c\")\n",
    "\n",
    "eqn = a*x*x+ b*x + c\n",
    "display(eqn)\n",
    "\n",
    "display(sf.solve(eqn, x))"
   ]
  },
  {
   "cell_type": "code",
   "execution_count": 33,
   "metadata": {},
   "outputs": [
    {
     "data": {
      "image/png": "[encoded data removed]",
      "text/latex": [
       "$\\displaystyle \\left(x - 1\\right) \\left(x + 1\\right) \\left(x^{2} + 1\\right) \\left(x^{2} - x + 1\\right) \\left(x^{2} + x + 1\\right) \\left(x^{4} - x^{2} + 1\\right)$"
      ],
      "text/plain": [
       "                ⎛ 2    ⎞ ⎛ 2        ⎞ ⎛ 2        ⎞ ⎛ 4    2    ⎞\n",
       "(x - 1)⋅(x + 1)⋅⎝x  + 1⎠⋅⎝x  - x + 1⎠⋅⎝x  + x + 1⎠⋅⎝x  - x  + 1⎠"
      ]
     },
     "metadata": {},
     "output_type": "display_data"
    },
    {
     "data": {
      "image/png": "[encoded data removed]",
      "text/latex": [
       "$\\displaystyle x^{12} - 1$"
      ],
      "text/plain": [
       " 12    \n",
       "x   - 1"
      ]
     },
     "metadata": {},
     "output_type": "display_data"
    }
   ],
   "source": [
    "eqn1 = (x - 1)*(x + 1)*(sf.Pow(x,2) + x + 1)*(sf.Pow(x,2)+ 1)*(sf.Pow(x,2) - x + 1)*(sf.Pow(x,4) - sf.Pow(x,2) + 1)\n",
    "display(eqn1)\n",
    "display(eqn1.simplify())"
   ]
  },
  {
   "cell_type": "code",
   "execution_count": 36,
   "metadata": {},
   "outputs": [
    {
     "data": {
      "image/png": "[encoded data removed]",
      "text/latex": [
       "$\\displaystyle 2 \\sin{\\left(x \\right)} \\cos{\\left(x \\right)} + \\cos^{2}{\\left(x \\right)} - \\frac{\\cos{\\left(2 x \\right)}}{2} + \\frac{1}{2}$"
      ],
      "text/plain": [
       "                     2      cos(2⋅x)   1\n",
       "2⋅sin(x)⋅cos(x) + cos (x) - ──────── + ─\n",
       "                               2       2"
      ]
     },
     "metadata": {},
     "output_type": "display_data"
    },
    {
     "data": {
      "image/png": "[encoded data removed]",
      "text/latex": [
       "$\\displaystyle \\sin{\\left(2 x \\right)} + 1$"
      ],
      "text/plain": [
       "sin(2⋅x) + 1"
      ]
     },
     "metadata": {},
     "output_type": "display_data"
    }
   ],
   "source": [
    "eqsin = 2*sf.sin(x)*sf.cos(x) + (1- sf.cos(2*x))/2 + sf.cos(x)* sf.cos(x)\n",
    "display(eqsin)\n",
    "display(eqsin.simplify())"
   ]
  },
  {
   "cell_type": "code",
   "execution_count": 39,
   "metadata": {},
   "outputs": [
    {
     "data": {
      "image/png": "[encoded data removed]",
      "text/latex": [
       "$\\displaystyle x^{6} - y^{6}$"
      ],
      "text/plain": [
       " 6    6\n",
       "x  - y "
      ]
     },
     "metadata": {},
     "output_type": "display_data"
    },
    {
     "data": {
      "image/png": "[encoded data removed]",
      "text/latex": [
       "$\\displaystyle \\left(x - y\\right) \\left(x + y\\right) \\left(x^{2} - x y + y^{2}\\right) \\left(x^{2} + x y + y^{2}\\right)$"
      ],
      "text/plain": [
       "                ⎛ 2          2⎞ ⎛ 2          2⎞\n",
       "(x - y)⋅(x + y)⋅⎝x  - x⋅y + y ⎠⋅⎝x  + x⋅y + y ⎠"
      ]
     },
     "metadata": {},
     "output_type": "display_data"
    }
   ],
   "source": [
    "fx = sf.Pow(x,6) -sf.Pow(y,6)\n",
    "display(fx)\n",
    "display(fx.factor())"
   ]
  },
  {
   "cell_type": "code",
   "execution_count": 46,
   "metadata": {},
   "outputs": [
    {
     "data": {
      "image/png": "[encoded data removed]",
      "text/latex": [
       "$\\displaystyle e^{0.5 x^{2}}$"
      ],
      "text/plain": [
       "      2\n",
       " 0.5⋅x \n",
       "ℯ      "
      ]
     },
     "metadata": {},
     "output_type": "display_data"
    },
    {
     "data": {
      "image/png": "[encoded data removed]",
      "text/latex": [
       "$\\displaystyle - 0.707106781186547 i \\sqrt{\\pi} \\operatorname{erf}{\\left(0.707106781186548 i x \\right)}$"
      ],
      "text/plain": [
       "-0.707106781186547⋅ⅈ⋅√π⋅erf(0.707106781186548⋅ⅈ⋅x)"
      ]
     },
     "metadata": {},
     "output_type": "display_data"
    },
    {
     "data": {
      "image/png": "[encoded data removed]",
      "text/latex": [
       "$\\displaystyle y e^{0.5 x^{2}}$"
      ],
      "text/plain": [
       "        2\n",
       "   0.5⋅x \n",
       "y⋅ℯ      "
      ]
     },
     "metadata": {},
     "output_type": "display_data"
    }
   ],
   "source": [
    "fint = sf.exp(1/2*sf.Pow(x,2))\n",
    "display(fint)\n",
    "#compute integral x\n",
    "display(fint.integrate(x))\n",
    "display(fint.integrate(y))"
   ]
  },
  {
   "cell_type": "code",
   "execution_count": 49,
   "metadata": {},
   "outputs": [
    {
     "data": {
      "image/png": "[encoded data removed]",
      "text/latex": [
       "$\\displaystyle \\frac{\\sin{\\left(x \\right)}}{x}$"
      ],
      "text/plain": [
       "sin(x)\n",
       "──────\n",
       "  x   "
      ]
     },
     "metadata": {},
     "output_type": "display_data"
    },
    {
     "data": {
      "image/png": "[encoded data removed]",
      "text/latex": [
       "$\\displaystyle 1 - \\frac{x^{2}}{6} + \\frac{x^{4}}{120} + O\\left(x^{6}\\right)$"
      ],
      "text/plain": [
       "     2     4        \n",
       "    x     x     ⎛ 6⎞\n",
       "1 - ── + ─── + O⎝x ⎠\n",
       "    6    120        "
      ]
     },
     "metadata": {},
     "output_type": "display_data"
    }
   ],
   "source": [
    "# computing the Taylor series\n",
    "etay = sf.sin(x)/x\n",
    "display(etay)\n",
    "display(etay.series(x, n=6))"
   ]
  }
 ],
 "metadata": {
  "kernelspec": {
   "display_name": "Python 3.9.12 ('robot_ml')",
   "language": "python",
   "name": "python3"
  },
  "language_info": {
   "codemirror_mode": {
    "name": "ipython",
    "version": 3
   },
   "file_extension": ".py",
   "mimetype": "text/x-python",
   "name": "python",
   "nbconvert_exporter": "python",
   "pygments_lexer": "ipython3",
   "version": "3.9.12"
  },
  "orig_nbformat": 4,
  "vscode": {
   "interpreter": {
    "hash": "5c11ad2b3e868973e9c5433eb1f36de7a5a08246a349f67b6dc65c44af7ff32c"
   }
  }
 },
 "nbformat": 4,
 "nbformat_minor": 2
}
